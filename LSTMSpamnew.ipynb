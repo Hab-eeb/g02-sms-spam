{
  "nbformat": 4,
  "nbformat_minor": 0,
  "metadata": {
    "accelerator": "GPU",
    "colab": {
      "name": "LSTMSpamnew.ipynb",
      "provenance": [],
      "collapsed_sections": [],
      "include_colab_link": true
    },
    "kernelspec": {
      "display_name": "Python 3",
      "language": "python",
      "name": "python3"
    },
    "language_info": {
      "codemirror_mode": {
        "name": "ipython",
        "version": 3
      },
      "file_extension": ".py",
      "mimetype": "text/x-python",
      "name": "python",
      "nbconvert_exporter": "python",
      "pygments_lexer": "ipython3",
      "version": "3.7.6"
    }
  },
  "cells": [
    {
      "cell_type": "markdown",
      "metadata": {
        "id": "view-in-github",
        "colab_type": "text"
      },
      "source": [
        "<a href=\"https://colab.research.google.com/github/olaidejoseph/g02-sms-spam/blob/master/LSTMSpamnew.ipynb\" target=\"_parent\"><img src=\"https://colab.research.google.com/assets/colab-badge.svg\" alt=\"Open In Colab\"/></a>"
      ]
    },
    {
      "cell_type": "code",
      "metadata": {
        "id": "hmA6EzkQJ5jt"
      },
      "source": [
        "import tensorflow as tf\n",
        "import random\n",
        "import numpy as np\n",
        "import pandas as pd\n",
        "import seaborn as sns\n",
        "import matplotlib.image  as mpimg\n",
        "import matplotlib.pyplot as plt\n",
        "\n",
        "\n",
        "from tensorflow.keras.preprocessing.text import Tokenizer\n",
        "from tensorflow.keras.preprocessing.sequence import pad_sequences\n",
        "from tensorflow.keras.utils import to_categorical\n",
        "from tensorflow.keras import regularizers\n",
        "from keras.optimizers import SGD, Adam, RMSprop\n",
        "\n",
        "\n",
        "\n",
        "embedding_dim = 100\n",
        "max_length = 150\n",
        "trunc_type='post'\n",
        "padding_type='post'\n",
        "oov_tok = \"<OOV>\"\n",
        "\n"
      ],
      "execution_count": 1,
      "outputs": []
    },
    {
      "cell_type": "code",
      "metadata": {
        "id": "7uQOVyc77R1x"
      },
      "source": [
        "#!wget 'https://raw.githubusercontent.com/HamoyeHQ/g02-sms-spam/master/data/spam_additional.csv'\n",
        "#!wget 'https://raw.githubusercontent.com/HamoyeHQ/g02-sms-spam/master/data/spam.csv'"
      ],
      "execution_count": 2,
      "outputs": []
    },
    {
      "cell_type": "code",
      "metadata": {
        "id": "bM0l_dORKqE0"
      },
      "source": [
        "data = pd.read_csv('/content/spam.csv', engine='python')\n",
        "data2 = pd.read_csv('/content/spam_additional.csv')\n"
      ],
      "execution_count": 3,
      "outputs": []
    },
    {
      "cell_type": "code",
      "metadata": {
        "colab": {
          "base_uri": "https://localhost:8080/",
          "height": 206
        },
        "id": "o7JkfXYQtZ3p",
        "outputId": "91a29a9c-e2e3-42d0-d0fe-13144d27c6e1"
      },
      "source": [
        "data.head()"
      ],
      "execution_count": 4,
      "outputs": [
        {
          "output_type": "execute_result",
          "data": {
            "text/html": [
              "<div>\n",
              "<style scoped>\n",
              "    .dataframe tbody tr th:only-of-type {\n",
              "        vertical-align: middle;\n",
              "    }\n",
              "\n",
              "    .dataframe tbody tr th {\n",
              "        vertical-align: top;\n",
              "    }\n",
              "\n",
              "    .dataframe thead th {\n",
              "        text-align: right;\n",
              "    }\n",
              "</style>\n",
              "<table border=\"1\" class=\"dataframe\">\n",
              "  <thead>\n",
              "    <tr style=\"text-align: right;\">\n",
              "      <th></th>\n",
              "      <th>v1</th>\n",
              "      <th>v2</th>\n",
              "      <th>Unnamed: 2</th>\n",
              "      <th>Unnamed: 3</th>\n",
              "      <th>Unnamed: 4</th>\n",
              "    </tr>\n",
              "  </thead>\n",
              "  <tbody>\n",
              "    <tr>\n",
              "      <th>0</th>\n",
              "      <td>ham</td>\n",
              "      <td>Go until jurong point, crazy.. Available only ...</td>\n",
              "      <td>NaN</td>\n",
              "      <td>NaN</td>\n",
              "      <td>NaN</td>\n",
              "    </tr>\n",
              "    <tr>\n",
              "      <th>1</th>\n",
              "      <td>ham</td>\n",
              "      <td>Ok lar... Joking wif u oni...</td>\n",
              "      <td>NaN</td>\n",
              "      <td>NaN</td>\n",
              "      <td>NaN</td>\n",
              "    </tr>\n",
              "    <tr>\n",
              "      <th>2</th>\n",
              "      <td>spam</td>\n",
              "      <td>Free entry in 2 a wkly comp to win FA Cup fina...</td>\n",
              "      <td>NaN</td>\n",
              "      <td>NaN</td>\n",
              "      <td>NaN</td>\n",
              "    </tr>\n",
              "    <tr>\n",
              "      <th>3</th>\n",
              "      <td>ham</td>\n",
              "      <td>U dun say so early hor... U c already then say...</td>\n",
              "      <td>NaN</td>\n",
              "      <td>NaN</td>\n",
              "      <td>NaN</td>\n",
              "    </tr>\n",
              "    <tr>\n",
              "      <th>4</th>\n",
              "      <td>ham</td>\n",
              "      <td>Nah I don't think he goes to usf, he lives aro...</td>\n",
              "      <td>NaN</td>\n",
              "      <td>NaN</td>\n",
              "      <td>NaN</td>\n",
              "    </tr>\n",
              "  </tbody>\n",
              "</table>\n",
              "</div>"
            ],
            "text/plain": [
              "     v1  ... Unnamed: 4\n",
              "0   ham  ...        NaN\n",
              "1   ham  ...        NaN\n",
              "2  spam  ...        NaN\n",
              "3   ham  ...        NaN\n",
              "4   ham  ...        NaN\n",
              "\n",
              "[5 rows x 5 columns]"
            ]
          },
          "metadata": {
            "tags": []
          },
          "execution_count": 4
        }
      ]
    },
    {
      "cell_type": "code",
      "metadata": {
        "colab": {
          "base_uri": "https://localhost:8080/",
          "height": 206
        },
        "id": "jxPR-G0w7wgx",
        "outputId": "412efdca-667f-4ec6-bd6a-f4d7a4026589"
      },
      "source": [
        "data2.head()"
      ],
      "execution_count": 5,
      "outputs": [
        {
          "output_type": "execute_result",
          "data": {
            "text/html": [
              "<div>\n",
              "<style scoped>\n",
              "    .dataframe tbody tr th:only-of-type {\n",
              "        vertical-align: middle;\n",
              "    }\n",
              "\n",
              "    .dataframe tbody tr th {\n",
              "        vertical-align: top;\n",
              "    }\n",
              "\n",
              "    .dataframe thead th {\n",
              "        text-align: right;\n",
              "    }\n",
              "</style>\n",
              "<table border=\"1\" class=\"dataframe\">\n",
              "  <thead>\n",
              "    <tr style=\"text-align: right;\">\n",
              "      <th></th>\n",
              "      <th>Unnamed: 0</th>\n",
              "      <th>Text</th>\n",
              "      <th>spam</th>\n",
              "    </tr>\n",
              "  </thead>\n",
              "  <tbody>\n",
              "    <tr>\n",
              "      <th>0</th>\n",
              "      <td>0</td>\n",
              "      <td>Dear Customer,\\nThis is a confirmation that th...</td>\n",
              "      <td>spam</td>\n",
              "    </tr>\n",
              "    <tr>\n",
              "      <th>1</th>\n",
              "      <td>1</td>\n",
              "      <td>Hello ADEYINKA, present your CV for interview ...</td>\n",
              "      <td>spam</td>\n",
              "    </tr>\n",
              "    <tr>\n",
              "      <th>2</th>\n",
              "      <td>2</td>\n",
              "      <td>Edgerit Limited invites you for an interview f...</td>\n",
              "      <td>spam</td>\n",
              "    </tr>\n",
              "    <tr>\n",
              "      <th>3</th>\n",
              "      <td>3</td>\n",
              "      <td>You are invited for an aptitude test with UBA ...</td>\n",
              "      <td>spam</td>\n",
              "    </tr>\n",
              "    <tr>\n",
              "      <th>4</th>\n",
              "      <td>4</td>\n",
              "      <td>Mag consult ltd, shortlisted (you/candidate no...</td>\n",
              "      <td>spam</td>\n",
              "    </tr>\n",
              "  </tbody>\n",
              "</table>\n",
              "</div>"
            ],
            "text/plain": [
              "   Unnamed: 0                                               Text  spam\n",
              "0           0  Dear Customer,\\nThis is a confirmation that th...  spam\n",
              "1           1  Hello ADEYINKA, present your CV for interview ...  spam\n",
              "2           2  Edgerit Limited invites you for an interview f...  spam\n",
              "3           3  You are invited for an aptitude test with UBA ...  spam\n",
              "4           4  Mag consult ltd, shortlisted (you/candidate no...  spam"
            ]
          },
          "metadata": {
            "tags": []
          },
          "execution_count": 5
        }
      ]
    },
    {
      "cell_type": "code",
      "metadata": {
        "id": "At8DB-1Y6yzJ"
      },
      "source": [
        "data.dropna(inplace=True,axis=1)\n",
        "data.rename(columns={\"v1\":\"label\",\"v2\":\"message\"},inplace=True)"
      ],
      "execution_count": 6,
      "outputs": []
    },
    {
      "cell_type": "code",
      "metadata": {
        "id": "ksafuedC-Z5Z"
      },
      "source": [
        "data2 = data2[['Text','spam']].copy()\n",
        "data2.rename(columns={\"spam\":\"label\",\"Text\":\"message\"},inplace=True)"
      ],
      "execution_count": 7,
      "outputs": []
    },
    {
      "cell_type": "code",
      "metadata": {
        "id": "azf6ihq7-teA"
      },
      "source": [
        "# merge the datframes\n",
        "data = data.append(data2)"
      ],
      "execution_count": 8,
      "outputs": []
    },
    {
      "cell_type": "code",
      "metadata": {
        "colab": {
          "base_uri": "https://localhost:8080/",
          "height": 520
        },
        "id": "fwKKs6J9mPkB",
        "outputId": "94bdf19a-e220-4377-a549-0abac5d1b744"
      },
      "source": [
        "# before shuffling\n",
        "data.tail(15)"
      ],
      "execution_count": 9,
      "outputs": [
        {
          "output_type": "execute_result",
          "data": {
            "text/html": [
              "<div>\n",
              "<style scoped>\n",
              "    .dataframe tbody tr th:only-of-type {\n",
              "        vertical-align: middle;\n",
              "    }\n",
              "\n",
              "    .dataframe tbody tr th {\n",
              "        vertical-align: top;\n",
              "    }\n",
              "\n",
              "    .dataframe thead th {\n",
              "        text-align: right;\n",
              "    }\n",
              "</style>\n",
              "<table border=\"1\" class=\"dataframe\">\n",
              "  <thead>\n",
              "    <tr style=\"text-align: right;\">\n",
              "      <th></th>\n",
              "      <th>label</th>\n",
              "      <th>message</th>\n",
              "    </tr>\n",
              "  </thead>\n",
              "  <tbody>\n",
              "    <tr>\n",
              "      <th>425</th>\n",
              "      <td>spam</td>\n",
              "      <td>PayPal Notification Your account has been temp...</td>\n",
              "    </tr>\n",
              "    <tr>\n",
              "      <th>426</th>\n",
              "      <td>spam</td>\n",
              "      <td>Never Share this code for your bank OTP 1234 M...</td>\n",
              "    </tr>\n",
              "    <tr>\n",
              "      <th>427</th>\n",
              "      <td>spam</td>\n",
              "      <td>Halifax has noticed your Debit card was recent...</td>\n",
              "    </tr>\n",
              "    <tr>\n",
              "      <th>428</th>\n",
              "      <td>spam</td>\n",
              "      <td>Free VZW Msg: You're on the phone with Verizon...</td>\n",
              "    </tr>\n",
              "    <tr>\n",
              "      <th>429</th>\n",
              "      <td>spam</td>\n",
              "      <td>Santander has noticed your debit card was rece...</td>\n",
              "    </tr>\n",
              "    <tr>\n",
              "      <th>430</th>\n",
              "      <td>spam</td>\n",
              "      <td>Today is our 10 you anniversary! To celebrate,...</td>\n",
              "    </tr>\n",
              "    <tr>\n",
              "      <th>431</th>\n",
              "      <td>spam</td>\n",
              "      <td>WELLS FARGO ALERT: Your CARD starting with 486...</td>\n",
              "    </tr>\n",
              "    <tr>\n",
              "      <th>432</th>\n",
              "      <td>spam</td>\n",
              "      <td>You have been selected for a FREE $1,000 Bestb...</td>\n",
              "    </tr>\n",
              "    <tr>\n",
              "      <th>433</th>\n",
              "      <td>spam</td>\n",
              "      <td>Your BOI online access has been locked for sec...</td>\n",
              "    </tr>\n",
              "    <tr>\n",
              "      <th>434</th>\n",
              "      <td>spam</td>\n",
              "      <td>&lt;CitiSG&gt; Did you authorise a charge on your ca...</td>\n",
              "    </tr>\n",
              "    <tr>\n",
              "      <th>435</th>\n",
              "      <td>spam</td>\n",
              "      <td>This is a fraud alert from HSBC. We need to ve...</td>\n",
              "    </tr>\n",
              "    <tr>\n",
              "      <th>436</th>\n",
              "      <td>spam</td>\n",
              "      <td>80% Off Louis Vuitton Handbags Save Up To 80% ...</td>\n",
              "    </tr>\n",
              "    <tr>\n",
              "      <th>437</th>\n",
              "      <td>spam</td>\n",
              "      <td>This Diwali book your spacious 2bhk apt @The G...</td>\n",
              "    </tr>\n",
              "    <tr>\n",
              "      <th>438</th>\n",
              "      <td>spam</td>\n",
              "      <td>(We are sorry but your:BnkOfAmericaDEBIT is te...</td>\n",
              "    </tr>\n",
              "    <tr>\n",
              "      <th>439</th>\n",
              "      <td>spam</td>\n",
              "      <td>to use a new promotional balance transfer rate...</td>\n",
              "    </tr>\n",
              "  </tbody>\n",
              "</table>\n",
              "</div>"
            ],
            "text/plain": [
              "    label                                            message\n",
              "425  spam  PayPal Notification Your account has been temp...\n",
              "426  spam  Never Share this code for your bank OTP 1234 M...\n",
              "427  spam  Halifax has noticed your Debit card was recent...\n",
              "428  spam  Free VZW Msg: You're on the phone with Verizon...\n",
              "429  spam  Santander has noticed your debit card was rece...\n",
              "430  spam  Today is our 10 you anniversary! To celebrate,...\n",
              "431  spam  WELLS FARGO ALERT: Your CARD starting with 486...\n",
              "432  spam  You have been selected for a FREE $1,000 Bestb...\n",
              "433  spam  Your BOI online access has been locked for sec...\n",
              "434  spam  <CitiSG> Did you authorise a charge on your ca...\n",
              "435  spam  This is a fraud alert from HSBC. We need to ve...\n",
              "436  spam  80% Off Louis Vuitton Handbags Save Up To 80% ...\n",
              "437  spam  This Diwali book your spacious 2bhk apt @The G...\n",
              "438  spam  (We are sorry but your:BnkOfAmericaDEBIT is te...\n",
              "439  spam  to use a new promotional balance transfer rate..."
            ]
          },
          "metadata": {
            "tags": []
          },
          "execution_count": 9
        }
      ]
    },
    {
      "cell_type": "code",
      "metadata": {
        "id": "5LY2EJ6T_5F5"
      },
      "source": [
        "# To drop duplicated rows\n",
        "data.drop_duplicates(inplace=True)"
      ],
      "execution_count": 10,
      "outputs": []
    },
    {
      "cell_type": "code",
      "metadata": {
        "id": "Tf8OpH5YDFvo"
      },
      "source": [
        "# shuffle rows\n",
        "data = data.sample(frac = 1, random_state=44).reset_index(drop=True)"
      ],
      "execution_count": 11,
      "outputs": []
    },
    {
      "cell_type": "code",
      "metadata": {
        "colab": {
          "base_uri": "https://localhost:8080/",
          "height": 520
        },
        "id": "w1mINKdhmL4f",
        "outputId": "2a987141-5ed5-4242-82de-c499e285f1af"
      },
      "source": [
        "# after shuffling\n",
        "data.tail(15)"
      ],
      "execution_count": 12,
      "outputs": [
        {
          "output_type": "execute_result",
          "data": {
            "text/html": [
              "<div>\n",
              "<style scoped>\n",
              "    .dataframe tbody tr th:only-of-type {\n",
              "        vertical-align: middle;\n",
              "    }\n",
              "\n",
              "    .dataframe tbody tr th {\n",
              "        vertical-align: top;\n",
              "    }\n",
              "\n",
              "    .dataframe thead th {\n",
              "        text-align: right;\n",
              "    }\n",
              "</style>\n",
              "<table border=\"1\" class=\"dataframe\">\n",
              "  <thead>\n",
              "    <tr style=\"text-align: right;\">\n",
              "      <th></th>\n",
              "      <th>label</th>\n",
              "      <th>message</th>\n",
              "    </tr>\n",
              "  </thead>\n",
              "  <tbody>\n",
              "    <tr>\n",
              "      <th>5587</th>\n",
              "      <td>spam</td>\n",
              "      <td>XMAS Prize draws! We are trying to contact U. ...</td>\n",
              "    </tr>\n",
              "    <tr>\n",
              "      <th>5588</th>\n",
              "      <td>ham</td>\n",
              "      <td>Ya srsly better than yi tho</td>\n",
              "    </tr>\n",
              "    <tr>\n",
              "      <th>5589</th>\n",
              "      <td>ham</td>\n",
              "      <td>Lol its ok I didn't remember til last nite</td>\n",
              "    </tr>\n",
              "    <tr>\n",
              "      <th>5590</th>\n",
              "      <td>ham</td>\n",
              "      <td>Yup. Anything lor, if u dun wan it's ok...</td>\n",
              "    </tr>\n",
              "    <tr>\n",
              "      <th>5591</th>\n",
              "      <td>ham</td>\n",
              "      <td>here is my new address -apples&amp;pairs&amp;all that ...</td>\n",
              "    </tr>\n",
              "    <tr>\n",
              "      <th>5592</th>\n",
              "      <td>spam</td>\n",
              "      <td>Thanks for your ringtone order, reference numb...</td>\n",
              "    </tr>\n",
              "    <tr>\n",
              "      <th>5593</th>\n",
              "      <td>ham</td>\n",
              "      <td>Hello. No news on job, they are making me wait...</td>\n",
              "    </tr>\n",
              "    <tr>\n",
              "      <th>5594</th>\n",
              "      <td>ham</td>\n",
              "      <td>I had been hoping i would not have to send you...</td>\n",
              "    </tr>\n",
              "    <tr>\n",
              "      <th>5595</th>\n",
              "      <td>ham</td>\n",
              "      <td>Wa... U so efficient... Gee... Thanx...</td>\n",
              "    </tr>\n",
              "    <tr>\n",
              "      <th>5596</th>\n",
              "      <td>ham</td>\n",
              "      <td>Hey... Thk we juz go accordin to wat we discus...</td>\n",
              "    </tr>\n",
              "    <tr>\n",
              "      <th>5597</th>\n",
              "      <td>ham</td>\n",
              "      <td>The LAY MAN! Just to let you know you are miss...</td>\n",
              "    </tr>\n",
              "    <tr>\n",
              "      <th>5598</th>\n",
              "      <td>ham</td>\n",
              "      <td>Huh so early.. Then �_ having dinner outside i...</td>\n",
              "    </tr>\n",
              "    <tr>\n",
              "      <th>5599</th>\n",
              "      <td>ham</td>\n",
              "      <td>have got * few things to do. may be in * pub l...</td>\n",
              "    </tr>\n",
              "    <tr>\n",
              "      <th>5600</th>\n",
              "      <td>ham</td>\n",
              "      <td>Hey babe, sorry i didn't get sooner. Gary can ...</td>\n",
              "    </tr>\n",
              "    <tr>\n",
              "      <th>5601</th>\n",
              "      <td>ham</td>\n",
              "      <td>Kent vale lor... �� wait 4 me there ar?</td>\n",
              "    </tr>\n",
              "  </tbody>\n",
              "</table>\n",
              "</div>"
            ],
            "text/plain": [
              "     label                                            message\n",
              "5587  spam  XMAS Prize draws! We are trying to contact U. ...\n",
              "5588   ham                        Ya srsly better than yi tho\n",
              "5589   ham         Lol its ok I didn't remember til last nite\n",
              "5590   ham         Yup. Anything lor, if u dun wan it's ok...\n",
              "5591   ham  here is my new address -apples&pairs&all that ...\n",
              "5592  spam  Thanks for your ringtone order, reference numb...\n",
              "5593   ham  Hello. No news on job, they are making me wait...\n",
              "5594   ham  I had been hoping i would not have to send you...\n",
              "5595   ham            Wa... U so efficient... Gee... Thanx...\n",
              "5596   ham  Hey... Thk we juz go accordin to wat we discus...\n",
              "5597   ham  The LAY MAN! Just to let you know you are miss...\n",
              "5598   ham  Huh so early.. Then �_ having dinner outside i...\n",
              "5599   ham  have got * few things to do. may be in * pub l...\n",
              "5600   ham  Hey babe, sorry i didn't get sooner. Gary can ...\n",
              "5601   ham            Kent vale lor... �� wait 4 me there ar?"
            ]
          },
          "metadata": {
            "tags": []
          },
          "execution_count": 12
        }
      ]
    },
    {
      "cell_type": "code",
      "metadata": {
        "colab": {
          "base_uri": "https://localhost:8080/",
          "height": 460
        },
        "id": "8HcDT54D-Br2",
        "outputId": "aabcda4a-a911-47f2-f7d1-067c8664f812"
      },
      "source": [
        "plt.figure(figsize=(15,7))\n",
        "sns.set_style(\"darkgrid\")\n",
        "splot = sns.countplot(x=\"label\",data=data)\n",
        "for p in splot.patches:\n",
        "    splot.annotate(format(p.get_height(), '.2f'), (p.get_x() + p.get_width() / 2., p.get_height()), \\\n",
        "                   ha = 'center', va = 'center', xytext = (0, 10), textcoords = 'offset points')\n",
        "plt.title('Target column countplot', size=15)\n",
        "plt.show()"
      ],
      "execution_count": 13,
      "outputs": [
        {
          "output_type": "display_data",
          "data": {
            "image/png": "[encoded data removed]",
            "text/plain": [
              "<Figure size 1080x504 with 1 Axes>"
            ]
          },
          "metadata": {
            "tags": [],
            "needs_background": "light"
          }
        }
      ]
    },
    {
      "cell_type": "markdown",
      "metadata": {
        "id": "u6nBB08Y-qV4"
      },
      "source": [
        "The data target is highly imbalance.\n",
        "Appropriate weight balancing method will be applied to counter the imbalance"
      ]
    },
    {
      "cell_type": "markdown",
      "metadata": {
        "id": "z8MB7EcO99_V"
      },
      "source": [
        "# Text Preprocessing"
      ]
    },
    {
      "cell_type": "code",
      "metadata": {
        "id": "np6-pRvHPkh-"
      },
      "source": [
        "import spacy"
      ],
      "execution_count": 14,
      "outputs": []
    },
    {
      "cell_type": "code",
      "metadata": {
        "id": "os0crfcDuQit"
      },
      "source": [
        "nlp = spacy.load('en', disable=['tagger', 'parser', 'ner'])\n",
        "spacy_stop_words = spacy.lang.en.STOP_WORDS # getting spacy's stop-words"
      ],
      "execution_count": 15,
      "outputs": []
    },
    {
      "cell_type": "code",
      "metadata": {
        "id": "jGYFi3f0udJm"
      },
      "source": [
        "#Stopwords list from https://github.com/Yoast/YoastSEO.js/blob/develop/src/config/stopwords.js\n",
        "# Convert it to a Python list and paste it here\n",
        "stopwords = [ \"a\", \"about\", \"above\", \"after\", \"again\", \"against\", \"all\", \"am\", \"an\", \"and\", \"any\", \"are\", \"as\", \"at\", \"be\", \"because\", \"been\", \"before\", \"being\", \"below\", \"between\", \"both\", \"but\", \"by\", \"could\", \"did\", \"do\", \"does\", \"doing\", \"down\", \"during\", \"each\", \"few\", \"for\", \"from\", \"further\", \"had\", \"has\", \"have\", \"having\", \"he\", \"he'd\", \"he'll\", \"he's\", \"her\", \"here\", \"here's\", \"hers\", \"herself\", \"him\", \"himself\", \"his\", \"how\", \"how's\", \"i\", \"i'd\", \"i'll\", \"i'm\", \"i've\", \"if\", \"in\", \"into\", \"is\", \"it\", \"it's\", \"its\", \"itself\", \"let's\", \"me\", \"more\", \"most\", \"my\", \"myself\", \"nor\", \"of\", \"on\", \"once\", \"only\", \"or\", \"other\", \"ought\", \"our\", \"ours\", \"ourselves\", \"out\", \"over\", \"own\", \"same\", \"she\", \"she'd\", \"she'll\", \"she's\", \"should\", \"so\", \"some\", \"such\", \"than\", \"that\", \"that's\", \"the\", \"their\", \"theirs\", \"them\", \"themselves\", \"then\", \"there\", \"there's\", \"these\", \"they\", \"they'd\", \"they'll\", \"they're\", \"they've\", \"this\", \"those\", \"through\", \"to\", \"too\", \"under\", \"until\", \"up\", \"very\", \"was\", \"we\", \"we'd\", \"we'll\", \"we're\", \"we've\", \"were\", \"what\", \"what's\", \"when\", \"when's\", \"where\", \"where's\", \"which\", \"while\", \"who\", \"who's\", \"whom\", \"why\", \"why's\", \"with\", \"would\", \"you\", \"you'd\", \"you'll\", \"you're\", \"you've\", \"your\", \"yours\", \"yourself\", \"yourselves\" ]"
      ],
      "execution_count": 16,
      "outputs": []
    },
    {
      "cell_type": "code",
      "metadata": {
        "id": "gkXxRFahunM9"
      },
      "source": [
        "stop_words = list(set(list(spacy_stop_words) + stopwords))\n",
        "stopwords = list({word.lemma_.lower() for word in nlp(' '.join(stop_words))})"
      ],
      "execution_count": 17,
      "outputs": []
    },
    {
      "cell_type": "code",
      "metadata": {
        "id": "A0_OfliUunTb"
      },
      "source": [
        "# defining tokenzer function to tokenize the lower case lemma of documents in a corpus and \n",
        "# filter out stop-words  \n",
        "def tokenizer_spacy(text):\n",
        "    return [word.lemma_.lower() for word in nlp(text) if word.is_alpha and word.lemma_.lower() not in stopwords]"
      ],
      "execution_count": 18,
      "outputs": []
    },
    {
      "cell_type": "code",
      "metadata": {
        "id": "XYOFCxgouz0V"
      },
      "source": [
        "from sklearn.preprocessing import LabelEncoder\n",
        "from sklearn.model_selection import train_test_split, StratifiedKFold, RepeatedStratifiedKFold"
      ],
      "execution_count": 19,
      "outputs": []
    },
    {
      "cell_type": "code",
      "metadata": {
        "id": "Ta-41NgDuz2u"
      },
      "source": [
        "sentences = data['message']\n",
        "labels = data['label']"
      ],
      "execution_count": 20,
      "outputs": []
    },
    {
      "cell_type": "code",
      "metadata": {
        "id": "eqF1ymsruz5D"
      },
      "source": [
        "# Label encoding\n",
        "encode = LabelEncoder()\n",
        "labels = encode.fit_transform(labels)"
      ],
      "execution_count": 21,
      "outputs": []
    },
    {
      "cell_type": "code",
      "metadata": {
        "id": "OxY1BcNpuz7f"
      },
      "source": [
        "senten = [word for word in sentences if word not in stopwords] # stopword filtering"
      ],
      "execution_count": 22,
      "outputs": []
    },
    {
      "cell_type": "code",
      "metadata": {
        "id": "MCKqPPcuuz9z"
      },
      "source": [
        "# tokenize (lemmatize and filter stop words) corpus \n",
        "senten = [' '.join(tokenizer_spacy(doc)) for doc in senten]"
      ],
      "execution_count": 23,
      "outputs": []
    },
    {
      "cell_type": "code",
      "metadata": {
        "colab": {
          "base_uri": "https://localhost:8080/",
          "height": 36
        },
        "id": "eczQiKtlvW_B",
        "outputId": "2d6a48e2-8e58-4c49-f202-d3ec66d84fe3"
      },
      "source": [
        "sentences[0]"
      ],
      "execution_count": 24,
      "outputs": [
        {
          "output_type": "execute_result",
          "data": {
            "application/vnd.google.colaboratory.intrinsic+json": {
              "type": "string"
            },
            "text/plain": [
              "\"Shuhui has bought ron's present it's a swatch watch...\""
            ]
          },
          "metadata": {
            "tags": []
          },
          "execution_count": 24
        }
      ]
    },
    {
      "cell_type": "code",
      "metadata": {
        "colab": {
          "base_uri": "https://localhost:8080/",
          "height": 36
        },
        "id": "4KkWwKfyvXFu",
        "outputId": "055f1298-d8dc-437a-921a-725fd6db9fb4"
      },
      "source": [
        "senten[0]"
      ],
      "execution_count": 25,
      "outputs": [
        {
          "output_type": "execute_result",
          "data": {
            "application/vnd.google.colaboratory.intrinsic+json": {
              "type": "string"
            },
            "text/plain": [
              "'shuhui buy ron present swatch watch'"
            ]
          },
          "metadata": {
            "tags": []
          },
          "execution_count": 25
        }
      ]
    },
    {
      "cell_type": "code",
      "metadata": {
        "id": "8ZpPU4gfvXIK"
      },
      "source": [
        "# word tokenizing\n",
        "tokenizer = Tokenizer(oov_token=oov_tok)\n",
        "tokenizer.fit_on_texts(senten)\n",
        "\n",
        "word_index = tokenizer.word_index"
      ],
      "execution_count": 26,
      "outputs": []
    },
    {
      "cell_type": "code",
      "metadata": {
        "id": "ohOGz24lsNAD"
      },
      "source": [
        "vocab_size=len(word_index)\n",
        "\n",
        "# padding and converting to numeric sequence\n",
        "sequences = tokenizer.texts_to_sequences(sentences)\n",
        "padded = pad_sequences(sequences, maxlen=max_length, padding=padding_type, truncating=trunc_type)"
      ],
      "execution_count": 27,
      "outputs": []
    },
    {
      "cell_type": "code",
      "metadata": {
        "id": "gIrtRem1En3N",
        "colab": {
          "base_uri": "https://localhost:8080/"
        },
        "outputId": "b195f085-7e8e-4bad-d437-326f16fb5fd1"
      },
      "source": [
        "print(vocab_size)"
      ],
      "execution_count": 28,
      "outputs": [
        {
          "output_type": "stream",
          "text": [
            "7563\n"
          ],
          "name": "stdout"
        }
      ]
    },
    {
      "cell_type": "code",
      "metadata": {
        "id": "6ZNxzSxYwJ4A"
      },
      "source": [
        "training_sequences, test_sequences, training_labels, test_labels = train_test_split(padded, labels, test_size=0.25, random_state=42)"
      ],
      "execution_count": 29,
      "outputs": []
    },
    {
      "cell_type": "code",
      "metadata": {
        "colab": {
          "base_uri": "https://localhost:8080/"
        },
        "id": "JlLc_SeClXEu",
        "outputId": "4bc3bf0c-ae61-4f95-f6b7-602adc75ee1f"
      },
      "source": [
        "unique_elements, counts_elements = np.unique(training_labels, return_counts=True)\n",
        "print(\"Frequency of unique values of the training_labels array:\")\n",
        "print(np.asarray((unique_elements, counts_elements)))\n",
        "\n",
        "print('\\n')\n",
        "\n",
        "unique_elements, counts_elements = np.unique(test_labels, return_counts=True)\n",
        "print(\"Frequency of unique values of the test_labels array:\")\n",
        "print(np.asarray((unique_elements, counts_elements)))"
      ],
      "execution_count": 30,
      "outputs": [
        {
          "output_type": "stream",
          "text": [
            "Frequency of unique values of the training_labels array:\n",
            "[[   0    1]\n",
            " [3391  810]]\n",
            "\n",
            "\n",
            "Frequency of unique values of the test_labels array:\n",
            "[[   0    1]\n",
            " [1125  276]]\n"
          ],
          "name": "stdout"
        }
      ]
    },
    {
      "cell_type": "markdown",
      "metadata": {
        "id": "qPU0M_3W_k5B"
      },
      "source": [
        "# Class weight balancing"
      ]
    },
    {
      "cell_type": "code",
      "metadata": {
        "id": "PGrB7whwwErX"
      },
      "source": [
        "from sklearn.utils import class_weight\n",
        "class_weights = dict(zip(np.unique(labels), class_weight.compute_class_weight('balanced',\n",
        "                                                 np.unique(labels),\n",
        "                                                 labels))) "
      ],
      "execution_count": 31,
      "outputs": []
    },
    {
      "cell_type": "markdown",
      "metadata": {
        "id": "swYy8SXv_vT2"
      },
      "source": [
        "# Modelling"
      ]
    },
    {
      "cell_type": "code",
      "metadata": {
        "id": "iKKvbuEBOGFz",
        "colab": {
          "base_uri": "https://localhost:8080/"
        },
        "outputId": "a86cfeed-30b6-47c3-de95-e3f04a9c7e64"
      },
      "source": [
        "tf.random.set_seed(1) # for reproducibility\n",
        "\n",
        "model = tf.keras.Sequential([\n",
        "    tf.keras.layers.Embedding(vocab_size+1, embedding_dim, input_length=max_length),\n",
        "    tf.keras.layers.Dropout(0.2),\n",
        "    tf.keras.layers.Bidirectional(tf.keras.layers.LSTM(305)),\n",
        "    tf.keras.layers.Dropout(0.2),\n",
        "    tf.keras.layers.Dense(1, activation='sigmoid')\n",
        "])\n",
        "model.compile(loss='binary_crossentropy',optimizer='adam',metrics=['accuracy'])\n",
        "model.summary()\n",
        "\n",
        "num_epochs = 20\n",
        "\n",
        "early_stopping = tf.keras.callbacks.EarlyStopping(monitor='val_loss',\n",
        "                               patience=5,\n",
        "                               verbose=1,\n",
        "                               min_delta=1e-4)\n",
        "\n",
        "lrp = tf.keraslrp = tf.keras.callbacks.ReduceLROnPlateau(monitor='val_loss',\n",
        "                                   factor=0.1,\n",
        "                                   patience=2,\n",
        "                                   cooldown=2,\n",
        "                                   verbose=1)\n",
        "\n",
        "training_padded = np.array(training_sequences)\n",
        "training_labels = np.array(training_labels)\n",
        "testing_padded = np.array(test_sequences)\n",
        "testing_labels = np.array(test_labels)\n",
        "\n",
        "history = model.fit(training_padded, training_labels, epochs=num_epochs, \n",
        "                    class_weight=class_weights, \n",
        "                    validation_data=(testing_padded, testing_labels),\n",
        "                    callbacks=[early_stopping, lrp],\n",
        "                    verbose=2)\n",
        "\n",
        "print(\"Training Complete\")"
      ],
      "execution_count": 32,
      "outputs": [
        {
          "output_type": "stream",
          "text": [
            "Model: \"sequential\"\n",
            "_________________________________________________________________\n",
            "Layer (type)                 Output Shape              Param #   \n",
            "=================================================================\n",
            "embedding (Embedding)        (None, 150, 100)          756400    \n",
            "_________________________________________________________________\n",
            "dropout (Dropout)            (None, 150, 100)          0         \n",
            "_________________________________________________________________\n",
            "bidirectional (Bidirectional (None, 610)               990640    \n",
            "_________________________________________________________________\n",
            "dropout_1 (Dropout)          (None, 610)               0         \n",
            "_________________________________________________________________\n",
            "dense (Dense)                (None, 1)                 611       \n",
            "=================================================================\n",
            "Total params: 1,747,651\n",
            "Trainable params: 1,747,651\n",
            "Non-trainable params: 0\n",
            "_________________________________________________________________\n",
            "Epoch 1/20\n",
            "132/132 - 14s - loss: 0.3598 - accuracy: 0.8241 - val_loss: 0.0935 - val_accuracy: 0.9707\n",
            "Epoch 2/20\n",
            "132/132 - 14s - loss: 0.0936 - accuracy: 0.9795 - val_loss: 0.0902 - val_accuracy: 0.9836\n",
            "Epoch 3/20\n",
            "132/132 - 14s - loss: 0.0590 - accuracy: 0.9879 - val_loss: 0.1036 - val_accuracy: 0.9714\n",
            "Epoch 4/20\n",
            "132/132 - 14s - loss: 0.1154 - accuracy: 0.9691 - val_loss: 0.0632 - val_accuracy: 0.9850\n",
            "Epoch 5/20\n",
            "132/132 - 13s - loss: 0.0248 - accuracy: 0.9952 - val_loss: 0.0558 - val_accuracy: 0.9864\n",
            "Epoch 6/20\n",
            "132/132 - 14s - loss: 0.0231 - accuracy: 0.9952 - val_loss: 0.0697 - val_accuracy: 0.9836\n",
            "Epoch 7/20\n",
            "\n",
            "Epoch 00007: ReduceLROnPlateau reducing learning rate to 0.00010000000474974513.\n",
            "132/132 - 14s - loss: 0.0340 - accuracy: 0.9950 - val_loss: 0.0874 - val_accuracy: 0.9836\n",
            "Epoch 8/20\n",
            "132/132 - 14s - loss: 0.0177 - accuracy: 0.9969 - val_loss: 0.0552 - val_accuracy: 0.9872\n",
            "Epoch 9/20\n",
            "132/132 - 14s - loss: 0.0133 - accuracy: 0.9981 - val_loss: 0.0528 - val_accuracy: 0.9879\n",
            "Epoch 10/20\n",
            "132/132 - 14s - loss: 0.0122 - accuracy: 0.9983 - val_loss: 0.0530 - val_accuracy: 0.9879\n",
            "Epoch 11/20\n",
            "132/132 - 14s - loss: 0.0107 - accuracy: 0.9986 - val_loss: 0.0524 - val_accuracy: 0.9879\n",
            "Epoch 12/20\n",
            "132/132 - 14s - loss: 0.0091 - accuracy: 0.9986 - val_loss: 0.0506 - val_accuracy: 0.9893\n",
            "Epoch 13/20\n",
            "132/132 - 13s - loss: 0.0079 - accuracy: 0.9990 - val_loss: 0.0507 - val_accuracy: 0.9886\n",
            "Epoch 14/20\n",
            "\n",
            "Epoch 00014: ReduceLROnPlateau reducing learning rate to 1.0000000474974514e-05.\n",
            "132/132 - 14s - loss: 0.0071 - accuracy: 0.9986 - val_loss: 0.0614 - val_accuracy: 0.9850\n",
            "Epoch 15/20\n",
            "132/132 - 14s - loss: 0.0072 - accuracy: 0.9986 - val_loss: 0.0584 - val_accuracy: 0.9872\n",
            "Epoch 16/20\n",
            "132/132 - 14s - loss: 0.0070 - accuracy: 0.9990 - val_loss: 0.0580 - val_accuracy: 0.9872\n",
            "Epoch 17/20\n",
            "\n",
            "Epoch 00017: ReduceLROnPlateau reducing learning rate to 1.0000000656873453e-06.\n",
            "132/132 - 14s - loss: 0.0072 - accuracy: 0.9986 - val_loss: 0.0519 - val_accuracy: 0.9879\n",
            "Epoch 00017: early stopping\n",
            "Training Complete\n"
          ],
          "name": "stdout"
        }
      ]
    },
    {
      "cell_type": "markdown",
      "metadata": {
        "id": "rSWEZwY6Hdm7"
      },
      "source": [
        "Evaluation"
      ]
    },
    {
      "cell_type": "code",
      "metadata": {
        "colab": {
          "base_uri": "https://localhost:8080/"
        },
        "id": "tIZ2jNFwxzdI",
        "outputId": "497e7c72-c22f-4ebd-9f7a-05e4316668b7"
      },
      "source": [
        "score = model.evaluate(test_sequences, test_labels, verbose=1)\n",
        "print('Test loss:', score[0])\n",
        "print('Test accuracy:', score[1])"
      ],
      "execution_count": 33,
      "outputs": [
        {
          "output_type": "stream",
          "text": [
            "44/44 [==============================] - 1s 31ms/step - loss: 0.0519 - accuracy: 0.9879\n",
            "Test loss: 0.05193272605538368\n",
            "Test accuracy: 0.9878658056259155\n"
          ],
          "name": "stdout"
        }
      ]
    },
    {
      "cell_type": "code",
      "metadata": {
        "id": "qxju4ItJKO8F",
        "colab": {
          "base_uri": "https://localhost:8080/",
          "height": 899
        },
        "outputId": "255327bc-03aa-4ac5-8418-4772d24a3365"
      },
      "source": [
        "import matplotlib.image  as mpimg\n",
        "import matplotlib.pyplot as plt\n",
        "\n",
        "#-----------------------------------------------------------\n",
        "# Retrieve a list of list results on training and test data\n",
        "# sets for each training epoch\n",
        "#-----------------------------------------------------------\n",
        "acc=history.history['accuracy']\n",
        "val_acc=history.history['val_accuracy']\n",
        "loss=history.history['loss']\n",
        "val_loss=history.history['val_loss']\n",
        "\n",
        "epochs=range(1, len(acc)+1) # Get number of epochs\n",
        "\n",
        "#------------------------------------------------\n",
        "# Plot training and validation accuracy per epoch\n",
        "#------------------------------------------------\n",
        "plt.figure(figsize=(8,7))\n",
        "plt.plot(epochs, acc, 'r')\n",
        "plt.plot(epochs, val_acc, 'b')\n",
        "plt.title('Training and validation accuracy')\n",
        "plt.xlabel(\"Epochs\")\n",
        "plt.ylabel(\"Accuracy\")\n",
        "plt.legend([\"Accuracy\", \"Validation Accuracy\"])\n",
        "\n",
        "\n",
        "#------------------------------------------------\n",
        "# Plot training and validation loss per epoch\n",
        "#------------------------------------------------\n",
        "plt.figure(figsize=(8,7))\n",
        "plt.plot(epochs, loss, 'r')\n",
        "plt.plot(epochs, val_loss, 'b')\n",
        "plt.title('Training and validation loss')\n",
        "plt.xlabel(\"Epochs\")\n",
        "plt.ylabel(\"Loss\")\n",
        "plt.legend([\"Loss\", \"Validation Loss\"])\n",
        "\n",
        "\n",
        "\n",
        "plt.show()"
      ],
      "execution_count": 34,
      "outputs": [
        {
          "output_type": "display_data",
          "data": {
            "image/png": "[encoded data removed]",
            "text/plain": [
              "<Figure size 576x504 with 1 Axes>"
            ]
          },
          "metadata": {
            "tags": []
          }
        },
        {
          "output_type": "display_data",
          "data": {
            "image/png": "[encoded data removed]",
            "text/plain": [
              "<Figure size 576x504 with 1 Axes>"
            ]
          },
          "metadata": {
            "tags": []
          }
        }
      ]
    },
    {
      "cell_type": "markdown",
      "metadata": {
        "id": "6QYvB5Wf4s98"
      },
      "source": [
        "The best epoch seems to be at 12"
      ]
    },
    {
      "cell_type": "code",
      "metadata": {
        "id": "fnePaioY3Bod",
        "colab": {
          "base_uri": "https://localhost:8080/"
        },
        "outputId": "456b29aa-3906-4d65-b612-c271c7924ef7"
      },
      "source": [
        "tf.random.set_seed(1) # for reproducibility\n",
        "\n",
        "model = tf.keras.Sequential([\n",
        "    tf.keras.layers.Embedding(vocab_size+1, embedding_dim, input_length=max_length),\n",
        "    tf.keras.layers.Dropout(0.2),\n",
        "    tf.keras.layers.Bidirectional(tf.keras.layers.LSTM(305)),\n",
        "    tf.keras.layers.Dropout(0.2),\n",
        "    tf.keras.layers.Dense(1, activation='sigmoid')\n",
        "])\n",
        "model.compile(loss='binary_crossentropy',optimizer='adam',metrics=['accuracy'])\n",
        "model.summary()\n",
        "\n",
        "num_epochs = 12\n",
        "\n",
        "early_stopping = tf.keras.callbacks.EarlyStopping(monitor='val_loss',\n",
        "                               patience=5,\n",
        "                               verbose=1,\n",
        "                               min_delta=1e-4)\n",
        "\n",
        "lrp = tf.keraslrp = tf.keras.callbacks.ReduceLROnPlateau(monitor='val_loss',\n",
        "                                   factor=0.1,\n",
        "                                   patience=2,\n",
        "                                   cooldown=2,\n",
        "                                   verbose=1)\n",
        "\n",
        "training_padded = np.array(training_sequences)\n",
        "training_labels = np.array(training_labels)\n",
        "testing_padded = np.array(test_sequences)\n",
        "testing_labels = np.array(test_labels)\n",
        "\n",
        "history = model.fit(training_padded, training_labels, epochs=num_epochs, \n",
        "                    class_weight=class_weights, \n",
        "                    validation_data=(testing_padded, testing_labels),\n",
        "                    callbacks=[early_stopping, lrp],\n",
        "                    verbose=2)\n",
        "\n",
        "print(\"Training Complete\")"
      ],
      "execution_count": 35,
      "outputs": [
        {
          "output_type": "stream",
          "text": [
            "Model: \"sequential_1\"\n",
            "_________________________________________________________________\n",
            "Layer (type)                 Output Shape              Param #   \n",
            "=================================================================\n",
            "embedding_1 (Embedding)      (None, 150, 100)          756400    \n",
            "_________________________________________________________________\n",
            "dropout_2 (Dropout)          (None, 150, 100)          0         \n",
            "_________________________________________________________________\n",
            "bidirectional_1 (Bidirection (None, 610)               990640    \n",
            "_________________________________________________________________\n",
            "dropout_3 (Dropout)          (None, 610)               0         \n",
            "_________________________________________________________________\n",
            "dense_1 (Dense)              (None, 1)                 611       \n",
            "=================================================================\n",
            "Total params: 1,747,651\n",
            "Trainable params: 1,747,651\n",
            "Non-trainable params: 0\n",
            "_________________________________________________________________\n",
            "Epoch 1/12\n",
            "132/132 - 14s - loss: 0.3598 - accuracy: 0.8241 - val_loss: 0.0935 - val_accuracy: 0.9707\n",
            "Epoch 2/12\n",
            "132/132 - 14s - loss: 0.0936 - accuracy: 0.9795 - val_loss: 0.0902 - val_accuracy: 0.9836\n",
            "Epoch 3/12\n",
            "132/132 - 14s - loss: 0.0590 - accuracy: 0.9879 - val_loss: 0.1036 - val_accuracy: 0.9714\n",
            "Epoch 4/12\n",
            "132/132 - 14s - loss: 0.1154 - accuracy: 0.9691 - val_loss: 0.0632 - val_accuracy: 0.9850\n",
            "Epoch 5/12\n",
            "132/132 - 14s - loss: 0.0248 - accuracy: 0.9952 - val_loss: 0.0558 - val_accuracy: 0.9864\n",
            "Epoch 6/12\n",
            "132/132 - 14s - loss: 0.0231 - accuracy: 0.9952 - val_loss: 0.0697 - val_accuracy: 0.9836\n",
            "Epoch 7/12\n",
            "\n",
            "Epoch 00007: ReduceLROnPlateau reducing learning rate to 0.00010000000474974513.\n",
            "132/132 - 14s - loss: 0.0340 - accuracy: 0.9950 - val_loss: 0.0874 - val_accuracy: 0.9836\n",
            "Epoch 8/12\n",
            "132/132 - 13s - loss: 0.0177 - accuracy: 0.9969 - val_loss: 0.0552 - val_accuracy: 0.9872\n",
            "Epoch 9/12\n",
            "132/132 - 14s - loss: 0.0133 - accuracy: 0.9981 - val_loss: 0.0528 - val_accuracy: 0.9879\n",
            "Epoch 10/12\n",
            "132/132 - 14s - loss: 0.0122 - accuracy: 0.9983 - val_loss: 0.0530 - val_accuracy: 0.9879\n",
            "Epoch 11/12\n",
            "132/132 - 14s - loss: 0.0107 - accuracy: 0.9986 - val_loss: 0.0524 - val_accuracy: 0.9879\n",
            "Epoch 12/12\n",
            "132/132 - 14s - loss: 0.0091 - accuracy: 0.9986 - val_loss: 0.0506 - val_accuracy: 0.9893\n",
            "Training Complete\n"
          ],
          "name": "stdout"
        }
      ]
    },
    {
      "cell_type": "code",
      "metadata": {
        "colab": {
          "base_uri": "https://localhost:8080/",
          "height": 899
        },
        "id": "Nsf0Oa4m5C9L",
        "outputId": "4d623886-b4e3-493d-9cb1-b1efd38b31c2"
      },
      "source": [
        "#-----------------------------------------------------------\n",
        "# Retrieve a list of list results on training and test data\n",
        "# sets for each training epoch\n",
        "#-----------------------------------------------------------\n",
        "acc=history.history['accuracy']\n",
        "val_acc=history.history['val_accuracy']\n",
        "loss=history.history['loss']\n",
        "val_loss=history.history['val_loss']\n",
        "\n",
        "epochs=range(1, len(acc)+1) # Get number of epochs\n",
        "\n",
        "#------------------------------------------------\n",
        "# Plot training and validation accuracy per epoch\n",
        "#------------------------------------------------\n",
        "plt.figure(figsize=(8,7))\n",
        "plt.plot(epochs, acc, 'r')\n",
        "plt.plot(epochs, val_acc, 'b')\n",
        "plt.title('Training and validation accuracy')\n",
        "plt.xlabel(\"Epochs\")\n",
        "plt.ylabel(\"Accuracy\")\n",
        "plt.legend([\"Accuracy\", \"Validation Accuracy\"])\n",
        "\n",
        "\n",
        "#------------------------------------------------\n",
        "# Plot training and validation loss per epoch\n",
        "#------------------------------------------------\n",
        "plt.figure(figsize=(8,7))\n",
        "plt.plot(epochs, loss, 'r')\n",
        "plt.plot(epochs, val_loss, 'b')\n",
        "plt.title('Training and validation loss')\n",
        "plt.xlabel(\"Epochs\")\n",
        "plt.ylabel(\"Loss\")\n",
        "plt.legend([\"Loss\", \"Validation Loss\"])\n",
        "\n",
        "plt.show()\n"
      ],
      "execution_count": 36,
      "outputs": [
        {
          "output_type": "display_data",
          "data": {
            "image/png": "[encoded data removed]",
            "text/plain": [
              "<Figure size 576x504 with 1 Axes>"
            ]
          },
          "metadata": {
            "tags": []
          }
        },
        {
          "output_type": "display_data",
          "data": {
            "image/png": "[encoded data removed]",
            "text/plain": [
              "<Figure size 576x504 with 1 Axes>"
            ]
          },
          "metadata": {
            "tags": []
          }
        }
      ]
    },
    {
      "cell_type": "markdown",
      "metadata": {
        "id": "86bSCSzZHWzm"
      },
      "source": [
        "# Prediction and Evaluation"
      ]
    },
    {
      "cell_type": "code",
      "metadata": {
        "colab": {
          "base_uri": "https://localhost:8080/"
        },
        "id": "WBzS17k-7pit",
        "outputId": "50cec4ee-43e9-477a-e32c-ad85051d8394"
      },
      "source": [
        "score = model.evaluate(test_sequences, test_labels, verbose=1)\n",
        "print('Test loss:', score[0])\n",
        "print('Test accuracy:', score[1])"
      ],
      "execution_count": 37,
      "outputs": [
        {
          "output_type": "stream",
          "text": [
            "44/44 [==============================] - 1s 30ms/step - loss: 0.0506 - accuracy: 0.9893\n",
            "Test loss: 0.050574395805597305\n",
            "Test accuracy: 0.9892933368682861\n"
          ],
          "name": "stdout"
        }
      ]
    },
    {
      "cell_type": "code",
      "metadata": {
        "id": "q7QSq9jT_exV"
      },
      "source": [
        "y_pred_train = model.predict(training_sequences)\n",
        "y_pred_test = model.predict(test_sequences)"
      ],
      "execution_count": 38,
      "outputs": []
    },
    {
      "cell_type": "code",
      "metadata": {
        "colab": {
          "base_uri": "https://localhost:8080/"
        },
        "id": "vbebudGVDWdJ",
        "outputId": "6e87527b-2de6-4f7a-c601-9baf2f016570"
      },
      "source": [
        "y_pred_test[4]"
      ],
      "execution_count": 39,
      "outputs": [
        {
          "output_type": "execute_result",
          "data": {
            "text/plain": [
              "array([0.00165379], dtype=float32)"
            ]
          },
          "metadata": {
            "tags": []
          },
          "execution_count": 39
        }
      ]
    },
    {
      "cell_type": "code",
      "metadata": {
        "id": "tCq6bxUlDZJW"
      },
      "source": [
        "y_pred_train = [int(np.round(i)) for i in y_pred_train]\n",
        "y_pred_test = [int(np.round(i)) for i in y_pred_test]"
      ],
      "execution_count": 40,
      "outputs": []
    },
    {
      "cell_type": "code",
      "metadata": {
        "colab": {
          "base_uri": "https://localhost:8080/"
        },
        "id": "ue-jKUXNDqNZ",
        "outputId": "c5dd7647-7bd5-495a-f1a8-1e462d600dbb"
      },
      "source": [
        "y_pred_test[4]"
      ],
      "execution_count": 41,
      "outputs": [
        {
          "output_type": "execute_result",
          "data": {
            "text/plain": [
              "0"
            ]
          },
          "metadata": {
            "tags": []
          },
          "execution_count": 41
        }
      ]
    },
    {
      "cell_type": "code",
      "metadata": {
        "id": "W-mWhpGQEK9W"
      },
      "source": [
        "from sklearn.metrics import f1_score, accuracy_score, precision_score, roc_auc_score, confusion_matrix, classification_report"
      ],
      "execution_count": 42,
      "outputs": []
    },
    {
      "cell_type": "code",
      "metadata": {
        "colab": {
          "base_uri": "https://localhost:8080/"
        },
        "id": "idLXb-7WEDxH",
        "outputId": "64c65efc-a26e-471c-a275-4ec090bcfba0"
      },
      "source": [
        "print(classification_report(test_labels, y_pred_test, digits=2))"
      ],
      "execution_count": 43,
      "outputs": [
        {
          "output_type": "stream",
          "text": [
            "              precision    recall  f1-score   support\n",
            "\n",
            "           0       0.99      1.00      0.99      1125\n",
            "           1       0.99      0.96      0.97       276\n",
            "\n",
            "    accuracy                           0.99      1401\n",
            "   macro avg       0.99      0.98      0.98      1401\n",
            "weighted avg       0.99      0.99      0.99      1401\n",
            "\n"
          ],
          "name": "stdout"
        }
      ]
    },
    {
      "cell_type": "code",
      "metadata": {
        "colab": {
          "base_uri": "https://localhost:8080/"
        },
        "id": "YyuL0GiaFWgO",
        "outputId": "5bb21938-14a1-44cc-d6c5-17cbafbde568"
      },
      "source": [
        "print('Training F1 score: {:.4f}'.format(\\\n",
        "    f1_score(training_labels, y_pred_train)))\n",
        "      \n",
        "print('Testing F1 score: {:.4f}'.format(\\\n",
        "    f1_score(test_labels, y_pred_test)))\n",
        "\n",
        "print('\\n')\n",
        "\n",
        "print('Training precision_score: {:.4f}'.format(\\\n",
        "    precision_score(training_labels, y_pred_train)))\n",
        "      \n",
        "print('Testing precision_score: {:.4f}'.format(\\\n",
        "    precision_score(test_labels, y_pred_test)))"
      ],
      "execution_count": 44,
      "outputs": [
        {
          "output_type": "stream",
          "text": [
            "Training F1 score: 0.9969\n",
            "Testing F1 score: 0.9725\n",
            "\n",
            "\n",
            "Training precision_score: 1.0000\n",
            "Testing precision_score: 0.9851\n"
          ],
          "name": "stdout"
        }
      ]
    },
    {
      "cell_type": "markdown",
      "metadata": {
        "id": "TzLy5OsnF3Hj"
      },
      "source": [
        "Note: the f1 score is taking spam as it's positive class"
      ]
    },
    {
      "cell_type": "code",
      "metadata": {
        "colab": {
          "base_uri": "https://localhost:8080/",
          "height": 442
        },
        "id": "HYVv2-YtFzY8",
        "outputId": "1ec22d4c-5648-4ea7-9086-d90a81cb34d4"
      },
      "source": [
        "plt.figure(figsize=(8,7))\n",
        "conf_mat = confusion_matrix(test_labels, y_pred_test)\n",
        "sns.heatmap(conf_mat, annot=True, fmt='d', cmap=\"Purples\", cbar=False)\n",
        "plt.ylabel('True label')\n",
        "plt.xlabel('Predicted label')\n",
        "plt.show()"
      ],
      "execution_count": 45,
      "outputs": [
        {
          "output_type": "display_data",
          "data": {
            "image/png": "[encoded data removed]",
            "text/plain": [
              "<Figure size 576x504 with 1 Axes>"
            ]
          },
          "metadata": {
            "tags": []
          }
        }
      ]
    },
    {
      "cell_type": "code",
      "metadata": {
        "id": "IxWTmisBGLSE"
      },
      "source": [
        ""
      ],
      "execution_count": 45,
      "outputs": []
    }
  ]
}