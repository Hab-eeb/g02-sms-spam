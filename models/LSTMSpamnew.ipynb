{
  "nbformat": 4,
  "nbformat_minor": 0,
  "metadata": {
    "accelerator": "GPU",
    "colab": {
      "name": "LSTMSpamnew.ipynb",
      "provenance": [],
      "collapsed_sections": []
    },
    "kernelspec": {
      "display_name": "Python 3",
      "language": "python",
      "name": "python3"
    },
    "language_info": {
      "codemirror_mode": {
        "name": "ipython",
        "version": 3
      },
      "file_extension": ".py",
      "mimetype": "text/x-python",
      "name": "python",
      "nbconvert_exporter": "python",
      "pygments_lexer": "ipython3",
      "version": "3.7.6"
    }
  },
  "cells": [
    {
      "cell_type": "code",
      "metadata": {
        "id": "hmA6EzkQJ5jt"
      },
      "source": [
        "import tensorflow as tf\n",
        "import random\n",
        "import numpy as np\n",
        "import pandas as pd\n",
        "import seaborn as sns\n",
        "import matplotlib.image  as mpimg\n",
        "import matplotlib.pyplot as plt\n",
        "\n",
        "\n",
        "from tensorflow.keras.preprocessing.text import Tokenizer\n",
        "from tensorflow.keras.preprocessing.sequence import pad_sequences\n",
        "from tensorflow.keras.utils import to_categorical\n",
        "from tensorflow.keras import regularizers\n",
        "from keras.optimizers import SGD, Adam, RMSprop\n",
        "\n",
        "\n",
        "\n",
        "embedding_dim = 100\n",
        "max_length = 150\n",
        "trunc_type='post'\n",
        "padding_type='post'\n",
        "oov_tok = \"<OOV>\"\n",
        "\n"
      ],
      "execution_count": 1,
      "outputs": []
    },
    {
      "cell_type": "code",
      "metadata": {
        "id": "7uQOVyc77R1x"
      },
      "source": [
        "#!wget 'https://raw.githubusercontent.com/HamoyeHQ/g02-sms-spam/master/data/spam_additional.csv'\n",
        "#!wget 'https://raw.githubusercontent.com/HamoyeHQ/g02-sms-spam/master/data/spam.csv'"
      ],
      "execution_count": 2,
      "outputs": []
    },
    {
      "cell_type": "code",
      "metadata": {
        "id": "bM0l_dORKqE0"
      },
      "source": [
        "\n",
        "\n",
        "data = pd.read_csv('/content/spam.csv',usecols=['v1', 'v2'],  encoding = 'latin-1')\n",
        "data2 = pd.read_csv('/content/spam_additional.csv',usecols=['Text', 'v3'],  encoding = 'latin-1')\n"
      ],
      "execution_count": 3,
      "outputs": []
    },
    {
      "cell_type": "code",
      "metadata": {
        "colab": {
          "base_uri": "https://localhost:8080/",
          "height": 204
        },
        "id": "o7JkfXYQtZ3p",
        "outputId": "6e3ecfaa-4286-4b5d-9ac6-13fd58e6330d"
      },
      "source": [
        "data.head()"
      ],
      "execution_count": 4,
      "outputs": [
        {
          "output_type": "execute_result",
          "data": {
            "text/html": [
              "<div>\n",
              "<style scoped>\n",
              "    .dataframe tbody tr th:only-of-type {\n",
              "        vertical-align: middle;\n",
              "    }\n",
              "\n",
              "    .dataframe tbody tr th {\n",
              "        vertical-align: top;\n",
              "    }\n",
              "\n",
              "    .dataframe thead th {\n",
              "        text-align: right;\n",
              "    }\n",
              "</style>\n",
              "<table border=\"1\" class=\"dataframe\">\n",
              "  <thead>\n",
              "    <tr style=\"text-align: right;\">\n",
              "      <th></th>\n",
              "      <th>v1</th>\n",
              "      <th>v2</th>\n",
              "    </tr>\n",
              "  </thead>\n",
              "  <tbody>\n",
              "    <tr>\n",
              "      <th>0</th>\n",
              "      <td>ham</td>\n",
              "      <td>Go until jurong point, crazy.. Available only ...</td>\n",
              "    </tr>\n",
              "    <tr>\n",
              "      <th>1</th>\n",
              "      <td>ham</td>\n",
              "      <td>Ok lar... Joking wif u oni...</td>\n",
              "    </tr>\n",
              "    <tr>\n",
              "      <th>2</th>\n",
              "      <td>spam</td>\n",
              "      <td>Free entry in 2 a wkly comp to win FA Cup fina...</td>\n",
              "    </tr>\n",
              "    <tr>\n",
              "      <th>3</th>\n",
              "      <td>ham</td>\n",
              "      <td>U dun say so early hor... U c already then say...</td>\n",
              "    </tr>\n",
              "    <tr>\n",
              "      <th>4</th>\n",
              "      <td>ham</td>\n",
              "      <td>Nah I don't think he goes to usf, he lives aro...</td>\n",
              "    </tr>\n",
              "  </tbody>\n",
              "</table>\n",
              "</div>"
            ],
            "text/plain": [
              "     v1                                                 v2\n",
              "0   ham  Go until jurong point, crazy.. Available only ...\n",
              "1   ham                      Ok lar... Joking wif u oni...\n",
              "2  spam  Free entry in 2 a wkly comp to win FA Cup fina...\n",
              "3   ham  U dun say so early hor... U c already then say...\n",
              "4   ham  Nah I don't think he goes to usf, he lives aro..."
            ]
          },
          "metadata": {
            "tags": []
          },
          "execution_count": 4
        }
      ]
    },
    {
      "cell_type": "code",
      "metadata": {
        "colab": {
          "base_uri": "https://localhost:8080/",
          "height": 204
        },
        "id": "jxPR-G0w7wgx",
        "outputId": "d3eaea4a-6611-4bb9-9493-0cb972358ed4"
      },
      "source": [
        "data2.head()"
      ],
      "execution_count": 5,
      "outputs": [
        {
          "output_type": "execute_result",
          "data": {
            "text/html": [
              "<div>\n",
              "<style scoped>\n",
              "    .dataframe tbody tr th:only-of-type {\n",
              "        vertical-align: middle;\n",
              "    }\n",
              "\n",
              "    .dataframe tbody tr th {\n",
              "        vertical-align: top;\n",
              "    }\n",
              "\n",
              "    .dataframe thead th {\n",
              "        text-align: right;\n",
              "    }\n",
              "</style>\n",
              "<table border=\"1\" class=\"dataframe\">\n",
              "  <thead>\n",
              "    <tr style=\"text-align: right;\">\n",
              "      <th></th>\n",
              "      <th>Text</th>\n",
              "      <th>v3</th>\n",
              "    </tr>\n",
              "  </thead>\n",
              "  <tbody>\n",
              "    <tr>\n",
              "      <th>0</th>\n",
              "      <td>Dear Customer,\\nThis is a confirmation that th...</td>\n",
              "      <td>spam</td>\n",
              "    </tr>\n",
              "    <tr>\n",
              "      <th>1</th>\n",
              "      <td>Hello ADEYINKA, present your CV for interview ...</td>\n",
              "      <td>spam</td>\n",
              "    </tr>\n",
              "    <tr>\n",
              "      <th>2</th>\n",
              "      <td>Edgerit Limited invites you for an interview f...</td>\n",
              "      <td>spam</td>\n",
              "    </tr>\n",
              "    <tr>\n",
              "      <th>3</th>\n",
              "      <td>You are invited for an aptitude test with UBA ...</td>\n",
              "      <td>spam</td>\n",
              "    </tr>\n",
              "    <tr>\n",
              "      <th>4</th>\n",
              "      <td>Mag consult ltd, shortlisted (you/candidate no...</td>\n",
              "      <td>spam</td>\n",
              "    </tr>\n",
              "  </tbody>\n",
              "</table>\n",
              "</div>"
            ],
            "text/plain": [
              "                                                Text    v3\n",
              "0  Dear Customer,\\nThis is a confirmation that th...  spam\n",
              "1  Hello ADEYINKA, present your CV for interview ...  spam\n",
              "2  Edgerit Limited invites you for an interview f...  spam\n",
              "3  You are invited for an aptitude test with UBA ...  spam\n",
              "4  Mag consult ltd, shortlisted (you/candidate no...  spam"
            ]
          },
          "metadata": {
            "tags": []
          },
          "execution_count": 5
        }
      ]
    },
    {
      "cell_type": "code",
      "metadata": {
        "id": "At8DB-1Y6yzJ"
      },
      "source": [
        "data.dropna(inplace=True,axis=1)\n",
        "data.rename(columns={\"v1\":\"label\",\"v2\":\"message\"},inplace=True)"
      ],
      "execution_count": 6,
      "outputs": []
    },
    {
      "cell_type": "code",
      "metadata": {
        "id": "ksafuedC-Z5Z"
      },
      "source": [
        "data2 = data2[['Text','v3']].copy()\n",
        "data2.rename(columns={\"v3\":\"label\",\"Text\":\"message\"},inplace=True)"
      ],
      "execution_count": 7,
      "outputs": []
    },
    {
      "cell_type": "code",
      "metadata": {
        "id": "azf6ihq7-teA"
      },
      "source": [
        "# merge the datframes\n",
        "data = data.append(data2)"
      ],
      "execution_count": 8,
      "outputs": []
    },
    {
      "cell_type": "code",
      "metadata": {
        "colab": {
          "base_uri": "https://localhost:8080/",
          "height": 514
        },
        "id": "fwKKs6J9mPkB",
        "outputId": "4b62e42d-9c7f-4114-d537-2422c1b334c2"
      },
      "source": [
        "# before shuffling\n",
        "data.tail(15)"
      ],
      "execution_count": 9,
      "outputs": [
        {
          "output_type": "execute_result",
          "data": {
            "text/html": [
              "<div>\n",
              "<style scoped>\n",
              "    .dataframe tbody tr th:only-of-type {\n",
              "        vertical-align: middle;\n",
              "    }\n",
              "\n",
              "    .dataframe tbody tr th {\n",
              "        vertical-align: top;\n",
              "    }\n",
              "\n",
              "    .dataframe thead th {\n",
              "        text-align: right;\n",
              "    }\n",
              "</style>\n",
              "<table border=\"1\" class=\"dataframe\">\n",
              "  <thead>\n",
              "    <tr style=\"text-align: right;\">\n",
              "      <th></th>\n",
              "      <th>label</th>\n",
              "      <th>message</th>\n",
              "    </tr>\n",
              "  </thead>\n",
              "  <tbody>\n",
              "    <tr>\n",
              "      <th>425</th>\n",
              "      <td>spam</td>\n",
              "      <td>PayPal Notification Your account has been temp...</td>\n",
              "    </tr>\n",
              "    <tr>\n",
              "      <th>426</th>\n",
              "      <td>spam</td>\n",
              "      <td>Never Share this code for your bank OTP 1234 M...</td>\n",
              "    </tr>\n",
              "    <tr>\n",
              "      <th>427</th>\n",
              "      <td>spam</td>\n",
              "      <td>Halifax has noticed your Debit card was recent...</td>\n",
              "    </tr>\n",
              "    <tr>\n",
              "      <th>428</th>\n",
              "      <td>spam</td>\n",
              "      <td>Free VZW Msg: You're on the phone with Verizon...</td>\n",
              "    </tr>\n",
              "    <tr>\n",
              "      <th>429</th>\n",
              "      <td>spam</td>\n",
              "      <td>Santander has noticed your debit card was rece...</td>\n",
              "    </tr>\n",
              "    <tr>\n",
              "      <th>430</th>\n",
              "      <td>spam</td>\n",
              "      <td>Today is our 10 you anniversary! To celebrate,...</td>\n",
              "    </tr>\n",
              "    <tr>\n",
              "      <th>431</th>\n",
              "      <td>spam</td>\n",
              "      <td>WELLS FARGO ALERT: Your CARD starting with 486...</td>\n",
              "    </tr>\n",
              "    <tr>\n",
              "      <th>432</th>\n",
              "      <td>spam</td>\n",
              "      <td>You have been selected for a FREE $1,000 Bestb...</td>\n",
              "    </tr>\n",
              "    <tr>\n",
              "      <th>433</th>\n",
              "      <td>spam</td>\n",
              "      <td>Your BOI online access has been locked for sec...</td>\n",
              "    </tr>\n",
              "    <tr>\n",
              "      <th>434</th>\n",
              "      <td>spam</td>\n",
              "      <td>&lt;CitiSG&gt; Did you authorise a charge on your ca...</td>\n",
              "    </tr>\n",
              "    <tr>\n",
              "      <th>435</th>\n",
              "      <td>spam</td>\n",
              "      <td>This is a fraud alert from HSBC. We need to ve...</td>\n",
              "    </tr>\n",
              "    <tr>\n",
              "      <th>436</th>\n",
              "      <td>spam</td>\n",
              "      <td>80% Off Louis Vuitton Handbags Save Up To 80% ...</td>\n",
              "    </tr>\n",
              "    <tr>\n",
              "      <th>437</th>\n",
              "      <td>spam</td>\n",
              "      <td>This Diwali book your spacious 2bhk apt @The G...</td>\n",
              "    </tr>\n",
              "    <tr>\n",
              "      <th>438</th>\n",
              "      <td>spam</td>\n",
              "      <td>(We are sorry but your:BnkOfAmericaDEBIT is te...</td>\n",
              "    </tr>\n",
              "    <tr>\n",
              "      <th>439</th>\n",
              "      <td>spam</td>\n",
              "      <td>to use a new promotional balance transfer rate...</td>\n",
              "    </tr>\n",
              "  </tbody>\n",
              "</table>\n",
              "</div>"
            ],
            "text/plain": [
              "    label                                            message\n",
              "425  spam  PayPal Notification Your account has been temp...\n",
              "426  spam  Never Share this code for your bank OTP 1234 M...\n",
              "427  spam  Halifax has noticed your Debit card was recent...\n",
              "428  spam  Free VZW Msg: You're on the phone with Verizon...\n",
              "429  spam  Santander has noticed your debit card was rece...\n",
              "430  spam  Today is our 10 you anniversary! To celebrate,...\n",
              "431  spam  WELLS FARGO ALERT: Your CARD starting with 486...\n",
              "432  spam  You have been selected for a FREE $1,000 Bestb...\n",
              "433  spam  Your BOI online access has been locked for sec...\n",
              "434  spam  <CitiSG> Did you authorise a charge on your ca...\n",
              "435  spam  This is a fraud alert from HSBC. We need to ve...\n",
              "436  spam  80% Off Louis Vuitton Handbags Save Up To 80% ...\n",
              "437  spam  This Diwali book your spacious 2bhk apt @The G...\n",
              "438  spam  (We are sorry but your:BnkOfAmericaDEBIT is te...\n",
              "439  spam  to use a new promotional balance transfer rate..."
            ]
          },
          "metadata": {
            "tags": []
          },
          "execution_count": 9
        }
      ]
    },
    {
      "cell_type": "code",
      "metadata": {
        "id": "5LY2EJ6T_5F5"
      },
      "source": [
        "# To drop duplicated rows\n",
        "data.drop_duplicates(inplace=True)"
      ],
      "execution_count": 10,
      "outputs": []
    },
    {
      "cell_type": "code",
      "metadata": {
        "id": "Tf8OpH5YDFvo"
      },
      "source": [
        "# shuffle rows\n",
        "data = data.sample(frac = 1, random_state=44).reset_index(drop=True)"
      ],
      "execution_count": 11,
      "outputs": []
    },
    {
      "cell_type": "code",
      "metadata": {
        "colab": {
          "base_uri": "https://localhost:8080/",
          "height": 514
        },
        "id": "w1mINKdhmL4f",
        "outputId": "7ca92f8a-97d9-496e-9d74-41d25405f75e"
      },
      "source": [
        "# after shuffling\n",
        "data.tail(15)"
      ],
      "execution_count": 12,
      "outputs": [
        {
          "output_type": "execute_result",
          "data": {
            "text/html": [
              "<div>\n",
              "<style scoped>\n",
              "    .dataframe tbody tr th:only-of-type {\n",
              "        vertical-align: middle;\n",
              "    }\n",
              "\n",
              "    .dataframe tbody tr th {\n",
              "        vertical-align: top;\n",
              "    }\n",
              "\n",
              "    .dataframe thead th {\n",
              "        text-align: right;\n",
              "    }\n",
              "</style>\n",
              "<table border=\"1\" class=\"dataframe\">\n",
              "  <thead>\n",
              "    <tr style=\"text-align: right;\">\n",
              "      <th></th>\n",
              "      <th>label</th>\n",
              "      <th>message</th>\n",
              "    </tr>\n",
              "  </thead>\n",
              "  <tbody>\n",
              "    <tr>\n",
              "      <th>5587</th>\n",
              "      <td>spam</td>\n",
              "      <td>XMAS Prize draws! We are trying to contact U. ...</td>\n",
              "    </tr>\n",
              "    <tr>\n",
              "      <th>5588</th>\n",
              "      <td>ham</td>\n",
              "      <td>Ya srsly better than yi tho</td>\n",
              "    </tr>\n",
              "    <tr>\n",
              "      <th>5589</th>\n",
              "      <td>ham</td>\n",
              "      <td>Lol its ok I didn't remember til last nite</td>\n",
              "    </tr>\n",
              "    <tr>\n",
              "      <th>5590</th>\n",
              "      <td>ham</td>\n",
              "      <td>Yup. Anything lor, if u dun wan it's ok...</td>\n",
              "    </tr>\n",
              "    <tr>\n",
              "      <th>5591</th>\n",
              "      <td>ham</td>\n",
              "      <td>here is my new address -apples&amp;pairs&amp;all that ...</td>\n",
              "    </tr>\n",
              "    <tr>\n",
              "      <th>5592</th>\n",
              "      <td>spam</td>\n",
              "      <td>Thanks for your ringtone order, reference numb...</td>\n",
              "    </tr>\n",
              "    <tr>\n",
              "      <th>5593</th>\n",
              "      <td>ham</td>\n",
              "      <td>Hello. No news on job, they are making me wait...</td>\n",
              "    </tr>\n",
              "    <tr>\n",
              "      <th>5594</th>\n",
              "      <td>ham</td>\n",
              "      <td>I had been hoping i would not have to send you...</td>\n",
              "    </tr>\n",
              "    <tr>\n",
              "      <th>5595</th>\n",
              "      <td>ham</td>\n",
              "      <td>Wa... U so efficient... Gee... Thanx...</td>\n",
              "    </tr>\n",
              "    <tr>\n",
              "      <th>5596</th>\n",
              "      <td>ham</td>\n",
              "      <td>Hey... Thk we juz go accordin to wat we discus...</td>\n",
              "    </tr>\n",
              "    <tr>\n",
              "      <th>5597</th>\n",
              "      <td>ham</td>\n",
              "      <td>The LAY MAN! Just to let you know you are miss...</td>\n",
              "    </tr>\n",
              "    <tr>\n",
              "      <th>5598</th>\n",
              "      <td>ham</td>\n",
              "      <td>Huh so early.. Then Ì_ having dinner outside i...</td>\n",
              "    </tr>\n",
              "    <tr>\n",
              "      <th>5599</th>\n",
              "      <td>ham</td>\n",
              "      <td>have got * few things to do. may be in * pub l...</td>\n",
              "    </tr>\n",
              "    <tr>\n",
              "      <th>5600</th>\n",
              "      <td>ham</td>\n",
              "      <td>Hey babe, sorry i didn't get sooner. Gary can ...</td>\n",
              "    </tr>\n",
              "    <tr>\n",
              "      <th>5601</th>\n",
              "      <td>ham</td>\n",
              "      <td>Kent vale lor... ÌÏ wait 4 me there ar?</td>\n",
              "    </tr>\n",
              "  </tbody>\n",
              "</table>\n",
              "</div>"
            ],
            "text/plain": [
              "     label                                            message\n",
              "5587  spam  XMAS Prize draws! We are trying to contact U. ...\n",
              "5588   ham                        Ya srsly better than yi tho\n",
              "5589   ham         Lol its ok I didn't remember til last nite\n",
              "5590   ham         Yup. Anything lor, if u dun wan it's ok...\n",
              "5591   ham  here is my new address -apples&pairs&all that ...\n",
              "5592  spam  Thanks for your ringtone order, reference numb...\n",
              "5593   ham  Hello. No news on job, they are making me wait...\n",
              "5594   ham  I had been hoping i would not have to send you...\n",
              "5595   ham            Wa... U so efficient... Gee... Thanx...\n",
              "5596   ham  Hey... Thk we juz go accordin to wat we discus...\n",
              "5597   ham  The LAY MAN! Just to let you know you are miss...\n",
              "5598   ham  Huh so early.. Then Ì_ having dinner outside i...\n",
              "5599   ham  have got * few things to do. may be in * pub l...\n",
              "5600   ham  Hey babe, sorry i didn't get sooner. Gary can ...\n",
              "5601   ham            Kent vale lor... ÌÏ wait 4 me there ar?"
            ]
          },
          "metadata": {
            "tags": []
          },
          "execution_count": 12
        }
      ]
    },
    {
      "cell_type": "code",
      "metadata": {
        "colab": {
          "base_uri": "https://localhost:8080/",
          "height": 460
        },
        "id": "8HcDT54D-Br2",
        "outputId": "383c2263-aa31-4d92-e07c-5f956008eabe"
      },
      "source": [
        "plt.figure(figsize=(15,7))\n",
        "sns.set_style(\"darkgrid\")\n",
        "splot = sns.countplot(x=\"label\",data=data)\n",
        "for p in splot.patches:\n",
        "    splot.annotate(format(p.get_height(), '.2f'), (p.get_x() + p.get_width() / 2., p.get_height()), \\\n",
        "                   ha = 'center', va = 'center', xytext = (0, 10), textcoords = 'offset points')\n",
        "plt.title('Target column countplot', size=15)\n",
        "plt.show()"
      ],
      "execution_count": 13,
      "outputs": [
        {
          "output_type": "display_data",
          "data": {
            "image/png": "[encoded data removed]",
            "text/plain": [
              "<Figure size 1080x504 with 1 Axes>"
            ]
          },
          "metadata": {
            "tags": [],
            "needs_background": "light"
          }
        }
      ]
    },
    {
      "cell_type": "markdown",
      "metadata": {
        "id": "u6nBB08Y-qV4"
      },
      "source": [
        "The data target is highly imbalance.\n",
        "Appropriate weight balancing method will be applied to counter the imbalance"
      ]
    },
    {
      "cell_type": "markdown",
      "metadata": {
        "id": "z8MB7EcO99_V"
      },
      "source": [
        "# Text Preprocessing"
      ]
    },
    {
      "cell_type": "code",
      "metadata": {
        "id": "np6-pRvHPkh-"
      },
      "source": [
        "import spacy"
      ],
      "execution_count": 14,
      "outputs": []
    },
    {
      "cell_type": "code",
      "metadata": {
        "id": "os0crfcDuQit"
      },
      "source": [
        "nlp = spacy.load('en', disable=['tagger', 'parser', 'ner'])\n",
        "spacy_stop_words = spacy.lang.en.STOP_WORDS # getting spacy's stop-words"
      ],
      "execution_count": 15,
      "outputs": []
    },
    {
      "cell_type": "code",
      "metadata": {
        "id": "jGYFi3f0udJm"
      },
      "source": [
        "#Stopwords list from https://github.com/Yoast/YoastSEO.js/blob/develop/src/config/stopwords.js\n",
        "# Convert it to a Python list and paste it here\n",
        "stopwords = [ \"a\", \"about\", \"above\", \"after\", \"again\", \"against\", \"all\", \"am\", \"an\", \"and\", \"any\", \"are\", \"as\", \"at\", \"be\", \"because\", \"been\", \"before\", \"being\", \"below\", \"between\", \"both\", \"but\", \"by\", \"could\", \"did\", \"do\", \"does\", \"doing\", \"down\", \"during\", \"each\", \"few\", \"for\", \"from\", \"further\", \"had\", \"has\", \"have\", \"having\", \"he\", \"he'd\", \"he'll\", \"he's\", \"her\", \"here\", \"here's\", \"hers\", \"herself\", \"him\", \"himself\", \"his\", \"how\", \"how's\", \"i\", \"i'd\", \"i'll\", \"i'm\", \"i've\", \"if\", \"in\", \"into\", \"is\", \"it\", \"it's\", \"its\", \"itself\", \"let's\", \"me\", \"more\", \"most\", \"my\", \"myself\", \"nor\", \"of\", \"on\", \"once\", \"only\", \"or\", \"other\", \"ought\", \"our\", \"ours\", \"ourselves\", \"out\", \"over\", \"own\", \"same\", \"she\", \"she'd\", \"she'll\", \"she's\", \"should\", \"so\", \"some\", \"such\", \"than\", \"that\", \"that's\", \"the\", \"their\", \"theirs\", \"them\", \"themselves\", \"then\", \"there\", \"there's\", \"these\", \"they\", \"they'd\", \"they'll\", \"they're\", \"they've\", \"this\", \"those\", \"through\", \"to\", \"too\", \"under\", \"until\", \"up\", \"very\", \"was\", \"we\", \"we'd\", \"we'll\", \"we're\", \"we've\", \"were\", \"what\", \"what's\", \"when\", \"when's\", \"where\", \"where's\", \"which\", \"while\", \"who\", \"who's\", \"whom\", \"why\", \"why's\", \"with\", \"would\", \"you\", \"you'd\", \"you'll\", \"you're\", \"you've\", \"your\", \"yours\", \"yourself\", \"yourselves\" ]"
      ],
      "execution_count": 16,
      "outputs": []
    },
    {
      "cell_type": "code",
      "metadata": {
        "id": "gkXxRFahunM9"
      },
      "source": [
        "stop_words = list(set(list(spacy_stop_words) + stopwords))\n",
        "stopwords = list({word.lemma_.lower() for word in nlp(' '.join(stop_words))})"
      ],
      "execution_count": 17,
      "outputs": []
    },
    {
      "cell_type": "code",
      "metadata": {
        "id": "A0_OfliUunTb"
      },
      "source": [
        "# defining tokenzer function to tokenize the lower case lemma of documents in a corpus and \n",
        "# filter out stop-words  \n",
        "def tokenizer_spacy(text):\n",
        "    return [word.lemma_.lower() for word in nlp(text) if word.is_alpha and word.lemma_.lower() not in stopwords]"
      ],
      "execution_count": 18,
      "outputs": []
    },
    {
      "cell_type": "code",
      "metadata": {
        "id": "DH_GNDY9R3TC"
      },
      "source": [
        "#Replace the target colunms with binary number\n",
        "data.replace({'ham':1,'spam':0},inplace=True)"
      ],
      "execution_count": 19,
      "outputs": []
    },
    {
      "cell_type": "code",
      "metadata": {
        "id": "Ta-41NgDuz2u"
      },
      "source": [
        "sentences = data['message']\n",
        "labels=data['label']"
      ],
      "execution_count": 20,
      "outputs": []
    },
    {
      "cell_type": "code",
      "metadata": {
        "id": "TOixVcw3Qi-w"
      },
      "source": [
        "#Replace the target colunms with binary number\n",
        "data.replace({'ham':1,'spam':0},inplace=True)"
      ],
      "execution_count": 21,
      "outputs": []
    },
    {
      "cell_type": "code",
      "metadata": {
        "id": "OxY1BcNpuz7f"
      },
      "source": [
        "senten = [word for word in sentences if word not in stopwords] # stopword filtering"
      ],
      "execution_count": 22,
      "outputs": []
    },
    {
      "cell_type": "code",
      "metadata": {
        "id": "MCKqPPcuuz9z"
      },
      "source": [
        "# tokenize (lemmatize and filter stop words) corpus \n",
        "senten = [' '.join(tokenizer_spacy(doc)) for doc in senten]"
      ],
      "execution_count": 23,
      "outputs": []
    },
    {
      "cell_type": "code",
      "metadata": {
        "colab": {
          "base_uri": "https://localhost:8080/",
          "height": 35
        },
        "id": "eczQiKtlvW_B",
        "outputId": "9edafbae-7846-471c-a87e-92d431567719"
      },
      "source": [
        "sentences[0]"
      ],
      "execution_count": 24,
      "outputs": [
        {
          "output_type": "execute_result",
          "data": {
            "application/vnd.google.colaboratory.intrinsic+json": {
              "type": "string"
            },
            "text/plain": [
              "\"Shuhui has bought ron's present it's a swatch watch...\""
            ]
          },
          "metadata": {
            "tags": []
          },
          "execution_count": 24
        }
      ]
    },
    {
      "cell_type": "code",
      "metadata": {
        "colab": {
          "base_uri": "https://localhost:8080/",
          "height": 35
        },
        "id": "4KkWwKfyvXFu",
        "outputId": "4703026b-041d-4903-f34b-323c85f5cc51"
      },
      "source": [
        "senten[0]"
      ],
      "execution_count": 25,
      "outputs": [
        {
          "output_type": "execute_result",
          "data": {
            "application/vnd.google.colaboratory.intrinsic+json": {
              "type": "string"
            },
            "text/plain": [
              "'shuhui buy ron present swatch watch'"
            ]
          },
          "metadata": {
            "tags": []
          },
          "execution_count": 25
        }
      ]
    },
    {
      "cell_type": "code",
      "metadata": {
        "id": "8ZpPU4gfvXIK"
      },
      "source": [
        "# word tokenizing\n",
        "tokenizer = Tokenizer(oov_token=oov_tok)\n",
        "tokenizer.fit_on_texts(senten)\n",
        "\n",
        "word_index = tokenizer.word_index"
      ],
      "execution_count": 26,
      "outputs": []
    },
    {
      "cell_type": "code",
      "metadata": {
        "id": "ohOGz24lsNAD"
      },
      "source": [
        "vocab_size=len(word_index)\n",
        "\n",
        "# padding and converting to numeric sequence\n",
        "sequences = tokenizer.texts_to_sequences(sentences)\n",
        "padded = pad_sequences(sequences, maxlen=max_length, padding=padding_type, truncating=trunc_type)"
      ],
      "execution_count": 27,
      "outputs": []
    },
    {
      "cell_type": "code",
      "metadata": {
        "id": "gIrtRem1En3N",
        "colab": {
          "base_uri": "https://localhost:8080/"
        },
        "outputId": "58fa41cb-fb56-40cd-e6ae-f7de3268c20d"
      },
      "source": [
        "print(vocab_size)"
      ],
      "execution_count": 28,
      "outputs": [
        {
          "output_type": "stream",
          "text": [
            "7601\n"
          ],
          "name": "stdout"
        }
      ]
    },
    {
      "cell_type": "code",
      "metadata": {
        "id": "6ZNxzSxYwJ4A"
      },
      "source": [
        "from sklearn.model_selection import train_test_split\n",
        "training_sequences, test_sequences, training_labels, test_labels = train_test_split(padded, labels, test_size=0.25, random_state=42)"
      ],
      "execution_count": 29,
      "outputs": []
    },
    {
      "cell_type": "code",
      "metadata": {
        "colab": {
          "base_uri": "https://localhost:8080/"
        },
        "id": "JlLc_SeClXEu",
        "outputId": "969f66c8-39f1-4c97-ac64-8377de8b8bda"
      },
      "source": [
        "unique_elements, counts_elements = np.unique(training_labels, return_counts=True)\n",
        "print(\"Frequency of unique values of the training_labels array:\")\n",
        "print(np.asarray((unique_elements, counts_elements)))\n",
        "\n",
        "print('\\n')\n",
        "\n",
        "unique_elements, counts_elements = np.unique(test_labels, return_counts=True)\n",
        "print(\"Frequency of unique values of the test_labels array:\")\n",
        "print(np.asarray((unique_elements, counts_elements)))"
      ],
      "execution_count": 30,
      "outputs": [
        {
          "output_type": "stream",
          "text": [
            "Frequency of unique values of the training_labels array:\n",
            "[[   0    1]\n",
            " [ 810 3391]]\n",
            "\n",
            "\n",
            "Frequency of unique values of the test_labels array:\n",
            "[[   0    1]\n",
            " [ 276 1125]]\n"
          ],
          "name": "stdout"
        }
      ]
    },
    {
      "cell_type": "markdown",
      "metadata": {
        "id": "qPU0M_3W_k5B"
      },
      "source": [
        "# Class weight balancing"
      ]
    },
    {
      "cell_type": "code",
      "metadata": {
        "id": "PGrB7whwwErX"
      },
      "source": [
        "from sklearn.utils import class_weight\n",
        "class_weights = dict(zip(np.unique(labels), class_weight.compute_class_weight('balanced',\n",
        "                                                 np.unique(labels),\n",
        "                                                 labels))) "
      ],
      "execution_count": 31,
      "outputs": []
    },
    {
      "cell_type": "markdown",
      "metadata": {
        "id": "swYy8SXv_vT2"
      },
      "source": [
        "# Modelling"
      ]
    },
    {
      "cell_type": "code",
      "metadata": {
        "id": "iKKvbuEBOGFz",
        "colab": {
          "base_uri": "https://localhost:8080/"
        },
        "outputId": "9a520a04-8fd3-4f95-f91b-08f4e8b5e4ed"
      },
      "source": [
        "tf.random.set_seed(1) # for reproducibility\n",
        "\n",
        "model = tf.keras.Sequential([\n",
        "    tf.keras.layers.Embedding(vocab_size+1, embedding_dim, input_length=max_length),\n",
        "    tf.keras.layers.Dropout(0.2),\n",
        "    tf.keras.layers.Bidirectional(tf.keras.layers.LSTM(305)),\n",
        "    tf.keras.layers.Dropout(0.2),\n",
        "    tf.keras.layers.Dense(1, activation='sigmoid')\n",
        "])\n",
        "model.compile(loss='binary_crossentropy',optimizer='adam',metrics=['accuracy'])\n",
        "model.summary()\n",
        "\n",
        "num_epochs = 20\n",
        "\n",
        "early_stopping = tf.keras.callbacks.EarlyStopping(monitor='val_loss',\n",
        "                               patience=5,\n",
        "                               verbose=1,\n",
        "                               min_delta=1e-4)\n",
        "\n",
        "lrp = tf.keraslrp = tf.keras.callbacks.ReduceLROnPlateau(monitor='val_loss',\n",
        "                                   factor=0.1,\n",
        "                                   patience=2,\n",
        "                                   cooldown=2,\n",
        "                                   verbose=1)\n",
        "\n",
        "training_padded = np.array(training_sequences)\n",
        "training_labels = np.array(training_labels)\n",
        "testing_padded = np.array(test_sequences)\n",
        "testing_labels = np.array(test_labels)\n",
        "\n",
        "history = model.fit(training_padded, training_labels, epochs=num_epochs, \n",
        "                    class_weight=class_weights, \n",
        "                    validation_data=(testing_padded, testing_labels),\n",
        "                    callbacks=[early_stopping, lrp],\n",
        "                    verbose=2)\n",
        "\n",
        "print(\"Training Complete\")"
      ],
      "execution_count": 32,
      "outputs": [
        {
          "output_type": "stream",
          "text": [
            "Model: \"sequential\"\n",
            "_________________________________________________________________\n",
            "Layer (type)                 Output Shape              Param #   \n",
            "=================================================================\n",
            "embedding (Embedding)        (None, 150, 100)          760200    \n",
            "_________________________________________________________________\n",
            "dropout (Dropout)            (None, 150, 100)          0         \n",
            "_________________________________________________________________\n",
            "bidirectional (Bidirectional (None, 610)               990640    \n",
            "_________________________________________________________________\n",
            "dropout_1 (Dropout)          (None, 610)               0         \n",
            "_________________________________________________________________\n",
            "dense (Dense)                (None, 1)                 611       \n",
            "=================================================================\n",
            "Total params: 1,751,451\n",
            "Trainable params: 1,751,451\n",
            "Non-trainable params: 0\n",
            "_________________________________________________________________\n",
            "Epoch 1/20\n",
            "132/132 - 5s - loss: 0.3777 - accuracy: 0.8277 - val_loss: 0.1191 - val_accuracy: 0.9786\n",
            "Epoch 2/20\n",
            "132/132 - 4s - loss: 0.1037 - accuracy: 0.9783 - val_loss: 0.0896 - val_accuracy: 0.9836\n",
            "Epoch 3/20\n",
            "132/132 - 4s - loss: 0.0530 - accuracy: 0.9898 - val_loss: 0.2025 - val_accuracy: 0.9279\n",
            "Epoch 4/20\n",
            "132/132 - 4s - loss: 0.1021 - accuracy: 0.9798 - val_loss: 0.0595 - val_accuracy: 0.9836\n",
            "Epoch 5/20\n",
            "132/132 - 4s - loss: 0.0266 - accuracy: 0.9962 - val_loss: 0.0584 - val_accuracy: 0.9857\n",
            "Epoch 6/20\n",
            "132/132 - 4s - loss: 0.0166 - accuracy: 0.9974 - val_loss: 0.0560 - val_accuracy: 0.9857\n",
            "Epoch 7/20\n",
            "132/132 - 4s - loss: 0.0166 - accuracy: 0.9967 - val_loss: 0.0796 - val_accuracy: 0.9829\n",
            "Epoch 8/20\n",
            "\n",
            "Epoch 00008: ReduceLROnPlateau reducing learning rate to 0.00010000000474974513.\n",
            "132/132 - 4s - loss: 0.0112 - accuracy: 0.9983 - val_loss: 0.0601 - val_accuracy: 0.9850\n",
            "Epoch 9/20\n",
            "132/132 - 4s - loss: 0.0058 - accuracy: 0.9986 - val_loss: 0.0573 - val_accuracy: 0.9864\n",
            "Epoch 10/20\n",
            "132/132 - 4s - loss: 0.0062 - accuracy: 0.9988 - val_loss: 0.0592 - val_accuracy: 0.9857\n",
            "Epoch 11/20\n",
            "\n",
            "Epoch 00011: ReduceLROnPlateau reducing learning rate to 1.0000000474974514e-05.\n",
            "132/132 - 4s - loss: 0.0045 - accuracy: 0.9993 - val_loss: 0.0600 - val_accuracy: 0.9864\n",
            "Epoch 00011: early stopping\n",
            "Training Complete\n"
          ],
          "name": "stdout"
        }
      ]
    },
    {
      "cell_type": "markdown",
      "metadata": {
        "id": "rSWEZwY6Hdm7"
      },
      "source": [
        "Evaluation"
      ]
    },
    {
      "cell_type": "code",
      "metadata": {
        "colab": {
          "base_uri": "https://localhost:8080/"
        },
        "id": "tIZ2jNFwxzdI",
        "outputId": "1a0b283b-4658-48dd-ee39-8636df727b9a"
      },
      "source": [
        "score = model.evaluate(test_sequences, test_labels, verbose=1)\n",
        "print('Test loss:', score[0])\n",
        "print('Test accuracy:', score[1])"
      ],
      "execution_count": 33,
      "outputs": [
        {
          "output_type": "stream",
          "text": [
            "44/44 [==============================] - 0s 9ms/step - loss: 0.0600 - accuracy: 0.9864\n",
            "Test loss: 0.06002148240804672\n",
            "Test accuracy: 0.9864382743835449\n"
          ],
          "name": "stdout"
        }
      ]
    },
    {
      "cell_type": "code",
      "metadata": {
        "id": "qxju4ItJKO8F",
        "colab": {
          "base_uri": "https://localhost:8080/",
          "height": 899
        },
        "outputId": "4537cea3-b05f-466c-9023-672a18eead77"
      },
      "source": [
        "import matplotlib.image  as mpimg\n",
        "import matplotlib.pyplot as plt\n",
        "\n",
        "#-----------------------------------------------------------\n",
        "# Retrieve a list of list results on training and test data\n",
        "# sets for each training epoch\n",
        "#-----------------------------------------------------------\n",
        "acc=history.history['accuracy']\n",
        "val_acc=history.history['val_accuracy']\n",
        "loss=history.history['loss']\n",
        "val_loss=history.history['val_loss']\n",
        "\n",
        "epochs=range(1, len(acc)+1) # Get number of epochs\n",
        "\n",
        "#------------------------------------------------\n",
        "# Plot training and validation accuracy per epoch\n",
        "#------------------------------------------------\n",
        "plt.figure(figsize=(8,7))\n",
        "plt.plot(epochs, acc, 'r')\n",
        "plt.plot(epochs, val_acc, 'b')\n",
        "plt.title('Training and validation accuracy')\n",
        "plt.xlabel(\"Epochs\")\n",
        "plt.ylabel(\"Accuracy\")\n",
        "plt.legend([\"Accuracy\", \"Validation Accuracy\"])\n",
        "\n",
        "\n",
        "#------------------------------------------------\n",
        "# Plot training and validation loss per epoch\n",
        "#------------------------------------------------\n",
        "plt.figure(figsize=(8,7))\n",
        "plt.plot(epochs, loss, 'r')\n",
        "plt.plot(epochs, val_loss, 'b')\n",
        "plt.title('Training and validation loss')\n",
        "plt.xlabel(\"Epochs\")\n",
        "plt.ylabel(\"Loss\")\n",
        "plt.legend([\"Loss\", \"Validation Loss\"])\n",
        "\n",
        "\n",
        "\n",
        "plt.show()"
      ],
      "execution_count": 34,
      "outputs": [
        {
          "output_type": "display_data",
          "data": {
            "image/png": "[encoded data removed]",
            "text/plain": [
              "<Figure size 576x504 with 1 Axes>"
            ]
          },
          "metadata": {
            "tags": []
          }
        },
        {
          "output_type": "display_data",
          "data": {
            "image/png": "[encoded data removed]",
            "text/plain": [
              "<Figure size 576x504 with 1 Axes>"
            ]
          },
          "metadata": {
            "tags": []
          }
        }
      ]
    },
    {
      "cell_type": "markdown",
      "metadata": {
        "id": "6QYvB5Wf4s98"
      },
      "source": [
        "The best epoch seems to be at 12"
      ]
    },
    {
      "cell_type": "code",
      "metadata": {
        "id": "fnePaioY3Bod",
        "colab": {
          "base_uri": "https://localhost:8080/"
        },
        "outputId": "a0a4702a-8a24-4763-b1ab-481f53faa794"
      },
      "source": [
        "tf.random.set_seed(1) # for reproducibility\n",
        "\n",
        "model = tf.keras.Sequential([\n",
        "    tf.keras.layers.Embedding(vocab_size+1, embedding_dim, input_length=max_length),\n",
        "    tf.keras.layers.Dropout(0.2),\n",
        "    tf.keras.layers.Bidirectional(tf.keras.layers.LSTM(305)),\n",
        "    tf.keras.layers.Dropout(0.2),\n",
        "    tf.keras.layers.Dense(1, activation='sigmoid')\n",
        "])\n",
        "model.compile(loss='binary_crossentropy',optimizer='adam',metrics=['accuracy'])\n",
        "model.summary()\n",
        "\n",
        "num_epochs = 12\n",
        "\n",
        "early_stopping = tf.keras.callbacks.EarlyStopping(monitor='val_loss',\n",
        "                               patience=5,\n",
        "                               verbose=1,\n",
        "                               min_delta=1e-4)\n",
        "\n",
        "lrp = tf.keraslrp = tf.keras.callbacks.ReduceLROnPlateau(monitor='val_loss',\n",
        "                                   factor=0.1,\n",
        "                                   patience=2,\n",
        "                                   cooldown=2,\n",
        "                                   verbose=1)\n",
        "\n",
        "training_padded = np.array(training_sequences)\n",
        "training_labels = np.array(training_labels)\n",
        "testing_padded = np.array(test_sequences)\n",
        "testing_labels = np.array(test_labels)\n",
        "\n",
        "history = model.fit(training_padded, training_labels, epochs=num_epochs, \n",
        "                    class_weight=class_weights, \n",
        "                    validation_data=(testing_padded, testing_labels),\n",
        "                    callbacks=[early_stopping, lrp],\n",
        "                    verbose=2)\n",
        "\n",
        "print(\"Training Complete\")"
      ],
      "execution_count": 35,
      "outputs": [
        {
          "output_type": "stream",
          "text": [
            "Model: \"sequential_1\"\n",
            "_________________________________________________________________\n",
            "Layer (type)                 Output Shape              Param #   \n",
            "=================================================================\n",
            "embedding_1 (Embedding)      (None, 150, 100)          760200    \n",
            "_________________________________________________________________\n",
            "dropout_2 (Dropout)          (None, 150, 100)          0         \n",
            "_________________________________________________________________\n",
            "bidirectional_1 (Bidirection (None, 610)               990640    \n",
            "_________________________________________________________________\n",
            "dropout_3 (Dropout)          (None, 610)               0         \n",
            "_________________________________________________________________\n",
            "dense_1 (Dense)              (None, 1)                 611       \n",
            "=================================================================\n",
            "Total params: 1,751,451\n",
            "Trainable params: 1,751,451\n",
            "Non-trainable params: 0\n",
            "_________________________________________________________________\n",
            "Epoch 1/12\n",
            "132/132 - 5s - loss: 0.3777 - accuracy: 0.8277 - val_loss: 0.1191 - val_accuracy: 0.9786\n",
            "Epoch 2/12\n",
            "132/132 - 4s - loss: 0.1037 - accuracy: 0.9783 - val_loss: 0.0896 - val_accuracy: 0.9836\n",
            "Epoch 3/12\n",
            "132/132 - 4s - loss: 0.0530 - accuracy: 0.9898 - val_loss: 0.2025 - val_accuracy: 0.9279\n",
            "Epoch 4/12\n",
            "132/132 - 4s - loss: 0.1021 - accuracy: 0.9798 - val_loss: 0.0595 - val_accuracy: 0.9836\n",
            "Epoch 5/12\n",
            "132/132 - 4s - loss: 0.0266 - accuracy: 0.9962 - val_loss: 0.0584 - val_accuracy: 0.9857\n",
            "Epoch 6/12\n",
            "132/132 - 4s - loss: 0.0166 - accuracy: 0.9974 - val_loss: 0.0560 - val_accuracy: 0.9857\n",
            "Epoch 7/12\n",
            "132/132 - 4s - loss: 0.0166 - accuracy: 0.9967 - val_loss: 0.0796 - val_accuracy: 0.9829\n",
            "Epoch 8/12\n",
            "\n",
            "Epoch 00008: ReduceLROnPlateau reducing learning rate to 0.00010000000474974513.\n",
            "132/132 - 4s - loss: 0.0112 - accuracy: 0.9983 - val_loss: 0.0601 - val_accuracy: 0.9850\n",
            "Epoch 9/12\n",
            "132/132 - 4s - loss: 0.0058 - accuracy: 0.9986 - val_loss: 0.0573 - val_accuracy: 0.9864\n",
            "Epoch 10/12\n",
            "132/132 - 4s - loss: 0.0062 - accuracy: 0.9988 - val_loss: 0.0592 - val_accuracy: 0.9857\n",
            "Epoch 11/12\n",
            "\n",
            "Epoch 00011: ReduceLROnPlateau reducing learning rate to 1.0000000474974514e-05.\n",
            "132/132 - 4s - loss: 0.0045 - accuracy: 0.9993 - val_loss: 0.0600 - val_accuracy: 0.9864\n",
            "Epoch 00011: early stopping\n",
            "Training Complete\n"
          ],
          "name": "stdout"
        }
      ]
    },
    {
      "cell_type": "code",
      "metadata": {
        "colab": {
          "base_uri": "https://localhost:8080/",
          "height": 899
        },
        "id": "Nsf0Oa4m5C9L",
        "outputId": "c9a30887-e88d-45db-e5bc-deab9c1d6ce5"
      },
      "source": [
        "#-----------------------------------------------------------\n",
        "# Retrieve a list of list results on training and test data\n",
        "# sets for each training epoch\n",
        "#-----------------------------------------------------------\n",
        "acc=history.history['accuracy']\n",
        "val_acc=history.history['val_accuracy']\n",
        "loss=history.history['loss']\n",
        "val_loss=history.history['val_loss']\n",
        "\n",
        "epochs=range(1, len(acc)+1) # Get number of epochs\n",
        "\n",
        "#------------------------------------------------\n",
        "# Plot training and validation accuracy per epoch\n",
        "#------------------------------------------------\n",
        "plt.figure(figsize=(8,7))\n",
        "plt.plot(epochs, acc, 'r')\n",
        "plt.plot(epochs, val_acc, 'b')\n",
        "plt.title('Training and validation accuracy')\n",
        "plt.xlabel(\"Epochs\")\n",
        "plt.ylabel(\"Accuracy\")\n",
        "plt.legend([\"Accuracy\", \"Validation Accuracy\"])\n",
        "\n",
        "\n",
        "#------------------------------------------------\n",
        "# Plot training and validation loss per epoch\n",
        "#------------------------------------------------\n",
        "plt.figure(figsize=(8,7))\n",
        "plt.plot(epochs, loss, 'r')\n",
        "plt.plot(epochs, val_loss, 'b')\n",
        "plt.title('Training and validation loss')\n",
        "plt.xlabel(\"Epochs\")\n",
        "plt.ylabel(\"Loss\")\n",
        "plt.legend([\"Loss\", \"Validation Loss\"])\n",
        "\n",
        "plt.show()\n"
      ],
      "execution_count": 36,
      "outputs": [
        {
          "output_type": "display_data",
          "data": {
            "image/png": "[encoded data removed]",
            "text/plain": [
              "<Figure size 576x504 with 1 Axes>"
            ]
          },
          "metadata": {
            "tags": []
          }
        },
        {
          "output_type": "display_data",
          "data": {
            "image/png": "[encoded data removed]",
            "text/plain": [
              "<Figure size 576x504 with 1 Axes>"
            ]
          },
          "metadata": {
            "tags": []
          }
        }
      ]
    },
    {
      "cell_type": "markdown",
      "metadata": {
        "id": "86bSCSzZHWzm"
      },
      "source": [
        "# Prediction and Evaluation"
      ]
    },
    {
      "cell_type": "code",
      "metadata": {
        "colab": {
          "base_uri": "https://localhost:8080/"
        },
        "id": "WBzS17k-7pit",
        "outputId": "ead2c540-0dcf-47f1-f505-c1509f79e5c8"
      },
      "source": [
        "score = model.evaluate(test_sequences, test_labels, verbose=1)\n",
        "print('Test loss:', score[0])\n",
        "print('Test accuracy:', score[1])"
      ],
      "execution_count": 37,
      "outputs": [
        {
          "output_type": "stream",
          "text": [
            "44/44 [==============================] - 0s 10ms/step - loss: 0.0600 - accuracy: 0.9864\n",
            "Test loss: 0.06002148240804672\n",
            "Test accuracy: 0.9864382743835449\n"
          ],
          "name": "stdout"
        }
      ]
    },
    {
      "cell_type": "code",
      "metadata": {
        "id": "q7QSq9jT_exV"
      },
      "source": [
        "y_pred_train = model.predict(training_sequences)\n",
        "y_pred_test = model.predict(test_sequences)"
      ],
      "execution_count": 38,
      "outputs": []
    },
    {
      "cell_type": "code",
      "metadata": {
        "colab": {
          "base_uri": "https://localhost:8080/"
        },
        "id": "vbebudGVDWdJ",
        "outputId": "ca104121-39d6-4795-ebdc-0902adc7d2f6"
      },
      "source": [
        "y_pred_test[4]"
      ],
      "execution_count": 39,
      "outputs": [
        {
          "output_type": "execute_result",
          "data": {
            "text/plain": [
              "array([0.99964607], dtype=float32)"
            ]
          },
          "metadata": {
            "tags": []
          },
          "execution_count": 39
        }
      ]
    },
    {
      "cell_type": "code",
      "metadata": {
        "id": "tCq6bxUlDZJW"
      },
      "source": [
        "y_pred_train = [int(np.round(i)) for i in y_pred_train]\n",
        "y_pred_test = [int(np.round(i)) for i in y_pred_test]"
      ],
      "execution_count": 40,
      "outputs": []
    },
    {
      "cell_type": "code",
      "metadata": {
        "colab": {
          "base_uri": "https://localhost:8080/"
        },
        "id": "ue-jKUXNDqNZ",
        "outputId": "62c682fb-595a-4e65-f032-867e6ec6fc07"
      },
      "source": [
        "y_pred_test[4]"
      ],
      "execution_count": 41,
      "outputs": [
        {
          "output_type": "execute_result",
          "data": {
            "text/plain": [
              "1"
            ]
          },
          "metadata": {
            "tags": []
          },
          "execution_count": 41
        }
      ]
    },
    {
      "cell_type": "code",
      "metadata": {
        "id": "W-mWhpGQEK9W"
      },
      "source": [
        "from sklearn.metrics import f1_score, accuracy_score, precision_score, roc_auc_score, confusion_matrix, classification_report"
      ],
      "execution_count": 42,
      "outputs": []
    },
    {
      "cell_type": "code",
      "metadata": {
        "colab": {
          "base_uri": "https://localhost:8080/"
        },
        "id": "idLXb-7WEDxH",
        "outputId": "d61aff36-31d0-4f1e-e8c4-0de849ff4c72"
      },
      "source": [
        "print(classification_report(test_labels, y_pred_test, digits=2))"
      ],
      "execution_count": 43,
      "outputs": [
        {
          "output_type": "stream",
          "text": [
            "              precision    recall  f1-score   support\n",
            "\n",
            "           0       0.98      0.95      0.97       276\n",
            "           1       0.99      0.99      0.99      1125\n",
            "\n",
            "    accuracy                           0.99      1401\n",
            "   macro avg       0.98      0.97      0.98      1401\n",
            "weighted avg       0.99      0.99      0.99      1401\n",
            "\n"
          ],
          "name": "stdout"
        }
      ]
    },
    {
      "cell_type": "code",
      "metadata": {
        "colab": {
          "base_uri": "https://localhost:8080/"
        },
        "id": "YyuL0GiaFWgO",
        "outputId": "ac3684e9-c232-4b0a-d108-67e55d61a31d"
      },
      "source": [
        "print('Training F1 score: {:.4f}'.format(\\\n",
        "    f1_score(training_labels, y_pred_train)))\n",
        "      \n",
        "print('Testing F1 score: {:.4f}'.format(\\\n",
        "    f1_score(test_labels, y_pred_test)))\n",
        "\n",
        "print('\\n')\n",
        "\n",
        "print('Training precision_score: {:.4f}'.format(\\\n",
        "    precision_score(training_labels, y_pred_train)))\n",
        "      \n",
        "print('Testing precision_score: {:.4f}'.format(\\\n",
        "    precision_score(test_labels, y_pred_test)))"
      ],
      "execution_count": 44,
      "outputs": [
        {
          "output_type": "stream",
          "text": [
            "Training F1 score: 0.9996\n",
            "Testing F1 score: 0.9916\n",
            "\n",
            "\n",
            "Training precision_score: 0.9997\n",
            "Testing precision_score: 0.9885\n"
          ],
          "name": "stdout"
        }
      ]
    },
    {
      "cell_type": "markdown",
      "metadata": {
        "id": "TzLy5OsnF3Hj"
      },
      "source": [
        "Note: the f1 score is taking spam as it's positive class"
      ]
    },
    {
      "cell_type": "code",
      "metadata": {
        "colab": {
          "base_uri": "https://localhost:8080/",
          "height": 442
        },
        "id": "HYVv2-YtFzY8",
        "outputId": "da7e62cf-53aa-4cd3-ea5d-b2ed915e449a"
      },
      "source": [
        "plt.figure(figsize=(8,7))\n",
        "conf_mat = confusion_matrix(test_labels, y_pred_test)\n",
        "sns.heatmap(conf_mat, annot=True, fmt='d', cmap=\"Purples\", cbar=False)\n",
        "plt.ylabel('True label')\n",
        "plt.xlabel('Predicted label')\n",
        "plt.show()"
      ],
      "execution_count": 45,
      "outputs": [
        {
          "output_type": "display_data",
          "data": {
            "image/png": "[encoded data removed]",
            "text/plain": [
              "<Figure size 576x504 with 1 Axes>"
            ]
          },
          "metadata": {
            "tags": []
          }
        }
      ]
    },
    {
      "cell_type": "code",
      "metadata": {
        "id": "IxWTmisBGLSE"
      },
      "source": [
        "model.save(\"model2.h5\")"
      ],
      "execution_count": 47,
      "outputs": []
    }
  ]
}